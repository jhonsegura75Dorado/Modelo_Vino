{
 "cells": [
  {
   "cell_type": "markdown",
   "metadata": {
    "application/vnd.databricks.v1+cell": {
     "cellMetadata": {
      "byteLimit": 2048000,
      "rowLimit": 10000
     },
     "inputWidgets": {},
     "nuid": "0ffc2004-b807-43fe-8c37-8dbf6acc3834",
     "showTitle": false,
     "title": ""
    }
   },
   "source": [
    "### Librerias "
   ]
  },
  {
   "cell_type": "markdown",
   "metadata": {
    "application/vnd.databricks.v1+cell": {
     "cellMetadata": {
      "byteLimit": 2048000,
      "rowLimit": 10000
     },
     "inputWidgets": {},
     "nuid": "1293f926-589e-4937-bd39-959c052be321",
     "showTitle": false,
     "title": ""
    }
   },
   "source": [
    "### 1. Manejo de datos y estructuras\n",
    "\n",
    "- `pandas` → Manejo de DataFrames y operaciones con datos.\n",
    "- `numpy` → Cálculos numéricos y creación de matrices.\n",
    "\n",
    "### 2. Modelado y algoritmos de aprendizaje automático\n",
    "\n",
    "- `sklearn.model_selection.train_test_split` → División del conjunto de datos en entrenamiento y prueba.\n",
    "- `sklearn.model_selection.GridSearchCV` → Búsqueda de hiperparámetros óptimos.\n",
    "- `sklearn.ensemble.GradientBoostingClassifier` → Clasificador basado en Gradient Boosting.\n",
    "- `xgboost` → Modelos basados en boosting.\n",
    "- `sklearn.svm.SVC` → Máquina de soporte vectorial.\n",
    "- `imblearn.over_sampling.SMOTE` → Sobremuestreo para equilibrar clases desbalanceadas.\n",
    "\n",
    "### 3. Evaluación de modelos\n",
    "\n",
    "- `sklearn.metrics.accuracy_score` → Cálculo de la precisión.\n",
    "- `sklearn.metrics.classification_report` → Generación de informe de clasificación.\n",
    "- `sklearn.metrics.confusion_matrix` → Cálculo de la matriz de confusión.\n",
    "\n",
    "### 4. Preprocesamiento de datos\n",
    "\n",
    "- `sklearn.preprocessing.StandardScaler` → Normalización de características.\n",
    "\n",
    "### 5. Visualización de datos\n",
    "\n",
    "- `seaborn` → Visualización avanzada de datos (gráficos y matrices).\n",
    "- `matplotlib.pyplot` → Creación de gráficos.\n",
    "\n",
    "### 6. Manejo de pipelines\n",
    "\n",
    "- `sklearn.pipeline.Pipeline` → Creación de pipelines para procesamiento y modelado.\n",
    "\n",
    "### 7. Manejo de flujo de trabajo y seguimiento de experimentos\n",
    "\n",
    "- `mlflow` → Seguimiento y gestión de experimentos de machine learning.\n",
    "- `mlflow.sklearn` → Manejo de modelos de scikit-learn con MLflow.\n",
    "- `mlflow.xgboost` → Manejo de modelos de XGBoost con MLflow.\n",
    "\n",
    "### 8. Manejo de clases desbalanceadas\n",
    "\n",
    "- `imblearn.over_sampling.SMOTE` → Técnica de sobremuestreo para manejo de clases desbalanceadas.\n",
    "- `collections.Counter` → Conteo de elementos en una colección."
   ]
  },
  {
   "cell_type": "code",
   "execution_count": 0,
   "metadata": {
    "application/vnd.databricks.v1+cell": {
     "cellMetadata": {
      "byteLimit": 2048000,
      "rowLimit": 10000
     },
     "inputWidgets": {},
     "nuid": "805c3ab2-9b30-4b02-b243-c6680566b394",
     "showTitle": false,
     "title": ""
    }
   },
   "outputs": [],
   "source": [
    "# 1. Manejo de datos y estructuras\n",
    "import numpy as np\n",
    "import pandas as pd"
   ]
  },
  {
   "cell_type": "code",
   "execution_count": 0,
   "metadata": {
    "application/vnd.databricks.v1+cell": {
     "cellMetadata": {
      "byteLimit": 2048000,
      "rowLimit": 10000
     },
     "inputWidgets": {},
     "nuid": "166eff5f-bdd1-4d70-b182-652720f82825",
     "showTitle": false,
     "title": ""
    }
   },
   "outputs": [],
   "source": [
    "# 2. Modelado y algoritmos de aprendizaje automático\n",
    "from sklearn.model_selection import train_test_split\n",
    "from sklearn.model_selection import GridSearchCV\n",
    "from sklearn.ensemble import GradientBoostingClassifier\n",
    "import xgboost as xgb\n",
    "from sklearn.svm import SVC\n",
    "from imblearn.over_sampling import SMOTE"
   ]
  },
  {
   "cell_type": "code",
   "execution_count": 0,
   "metadata": {
    "application/vnd.databricks.v1+cell": {
     "cellMetadata": {
      "byteLimit": 2048000,
      "rowLimit": 10000
     },
     "inputWidgets": {},
     "nuid": "03bded76-2ed0-44eb-8966-75fbae4d138b",
     "showTitle": false,
     "title": ""
    }
   },
   "outputs": [],
   "source": [
    "# 3. Evaluación de modelos\n",
    "from sklearn.metrics import accuracy_score\n",
    "from sklearn.metrics import classification_report\n",
    "from sklearn.metrics import confusion_matrix"
   ]
  },
  {
   "cell_type": "code",
   "execution_count": 0,
   "metadata": {
    "application/vnd.databricks.v1+cell": {
     "cellMetadata": {
      "byteLimit": 2048000,
      "rowLimit": 10000
     },
     "inputWidgets": {},
     "nuid": "5de641a4-7edb-4a7f-bf92-a0829190d02d",
     "showTitle": false,
     "title": ""
    }
   },
   "outputs": [],
   "source": [
    "# 4. Preprocesamiento de datos\n",
    "from sklearn.preprocessing import StandardScaler\n",
    "\n",
    "# 5. Visualización de datos\n",
    "import seaborn as sns\n",
    "import matplotlib.pyplot as plt"
   ]
  },
  {
   "cell_type": "code",
   "execution_count": 0,
   "metadata": {
    "application/vnd.databricks.v1+cell": {
     "cellMetadata": {
      "byteLimit": 2048000,
      "rowLimit": 10000
     },
     "inputWidgets": {},
     "nuid": "dfbb7475-c735-489f-8595-f0a9a951579e",
     "showTitle": false,
     "title": ""
    }
   },
   "outputs": [],
   "source": [
    "# 6. Manejo de pipelines\n",
    "from sklearn.pipeline import Pipeline\n",
    "\n",
    "# 7. Manejo de flujo de trabajo y seguimiento de experimentos\n",
    "import mlflow\n",
    "import mlflow.sklearn\n",
    "import mlflow.xgboost\n",
    "\n",
    "# 8. Manejo de clases desbalanceadas\n",
    "from collections import Counter"
   ]
  },
  {
   "cell_type": "markdown",
   "metadata": {
    "application/vnd.databricks.v1+cell": {
     "cellMetadata": {
      "byteLimit": 2048000,
      "rowLimit": 10000
     },
     "inputWidgets": {},
     "nuid": "81bf3dd3-843a-4576-b862-5a3f9471695e",
     "showTitle": false,
     "title": ""
    }
   },
   "source": [
    "### Cargar Datos"
   ]
  },
  {
   "cell_type": "markdown",
   "metadata": {
    "application/vnd.databricks.v1+cell": {
     "cellMetadata": {
      "byteLimit": 2048000,
      "rowLimit": 10000
     },
     "inputWidgets": {},
     "nuid": "a785efe0-c294-4dd6-ad45-aac3a84acbab",
     "showTitle": false,
     "title": ""
    }
   },
   "source": [
    "A continuación, se definen los identificadores de las columnas correspondientes a las variables del conjunto de datos, tales como \"Alcohol\", \"Malic Acid\" y \"Total Phenols\". Posteriormente, se emplea la **biblioteca pandas** para importar el archivo CSV desde la URL especificada, cargándolo en un DataFrame y asignando los nombres de columnas previamente establecidos. Finalmente, se utiliza el método **head()** del DataFrame para visualizar las primeras filas del conjunto de datos, lo cual permite una inspección preliminar de la estructura y el contenido de los datos, asegurando así la correcta importación y el formato adecuado del DataFrame."
   ]
  },
  {
   "cell_type": "code",
   "execution_count": 0,
   "metadata": {
    "application/vnd.databricks.v1+cell": {
     "cellMetadata": {
      "byteLimit": 2048000,
      "rowLimit": 10000
     },
     "inputWidgets": {},
     "nuid": "6c1a848f-597b-42b8-8e7a-b6a6bcf5df36",
     "showTitle": false,
     "title": ""
    }
   },
   "outputs": [
    {
     "output_type": "stream",
     "name": "stdout",
     "output_type": "stream",
     "text": [
      "   Class  Alcohol  Malic Acid  ...   Hue  OD280/OD315 of Diluted Wines  Proline\n0      1    14.23        1.71  ...  1.04                          3.92     1065\n1      1    13.20        1.78  ...  1.05                          3.40     1050\n2      1    13.16        2.36  ...  1.03                          3.17     1185\n3      1    14.37        1.95  ...  0.86                          3.45     1480\n4      1    13.24        2.59  ...  1.04                          2.93      735\n\n[5 rows x 14 columns]\n"
     ]
    }
   ],
   "source": [
    "# URL del conjunto de datos\n",
    "url = \"https://archive.ics.uci.edu/ml/machine-learning-databases/wine/wine.data\"\n",
    "\n",
    "# Nombres de las columnas del conjunto de datos\n",
    "column_names = [\n",
    "    \"Class\", \"Alcohol\", \"Malic Acid\", \"Ash\", \"Alcalinity of Ash\", \n",
    "    \"Magnesium\", \"Total Phenols\", \"Flavanoids\", \"Nonflavanoid Phenols\", \n",
    "    \"Proanthocyanins\", \"Color Intensity\", \"Hue\", \"OD280/OD315 of Diluted Wines\", \n",
    "    \"Proline\"\n",
    "]\n",
    "\n",
    "# Cargar el conjunto de datos en un DataFrame de pandas\n",
    "data = pd.read_csv(url, names=column_names)\n",
    "\n",
    "# Mostrar las primeras filas del conjunto de datos\n",
    "print(data.head())"
   ]
  },
  {
   "cell_type": "code",
   "execution_count": 0,
   "metadata": {
    "application/vnd.databricks.v1+cell": {
     "cellMetadata": {
      "byteLimit": 2048000,
      "rowLimit": 10000
     },
     "inputWidgets": {},
     "nuid": "1ded5cc4-041e-4324-9413-d370a0bcdd0c",
     "showTitle": false,
     "title": ""
    }
   },
   "outputs": [
    {
     "output_type": "execute_result",
     "data": {
      "text/plain": [
       "(178, 14)"
      ]
     },
     "execution_count": 7,
     "metadata": {},
     "output_type": "execute_result"
    }
   ],
   "source": [
    "data.shape"
   ]
  },
  {
   "cell_type": "markdown",
   "metadata": {
    "application/vnd.databricks.v1+cell": {
     "cellMetadata": {
      "byteLimit": 2048000,
      "rowLimit": 10000
     },
     "inputWidgets": {},
     "nuid": "e71d4dd1-7530-43b4-b299-159136406e22",
     "showTitle": false,
     "title": ""
    }
   },
   "source": [
    "En el DataFrame cargado, se observa un total de 178 filas y 14 columnas. La variable objetivo que se debe predecir es \"Class\"."
   ]
  },
  {
   "cell_type": "markdown",
   "metadata": {
    "application/vnd.databricks.v1+cell": {
     "cellMetadata": {
      "byteLimit": 2048000,
      "rowLimit": 10000
     },
     "inputWidgets": {},
     "nuid": "b914bfae-a575-499f-b6b5-614b94f2d8d6",
     "showTitle": false,
     "title": ""
    }
   },
   "source": [
    "### Identificación de Columnas"
   ]
  },
  {
   "cell_type": "markdown",
   "metadata": {
    "application/vnd.databricks.v1+cell": {
     "cellMetadata": {
      "byteLimit": 2048000,
      "rowLimit": 10000
     },
     "inputWidgets": {},
     "nuid": "3543e064-ac41-4fc4-b85d-a58b7f6418dc",
     "showTitle": false,
     "title": ""
    }
   },
   "source": [
    "En el siguiente código, se utiliza un DataFrame de pandas para analizar características químicas y físicas de diversas muestras de vino. Cada columna en el DataFrame representa una variable específica medida en los vinos, y estas variables se emplean para clasificar los vinos en diferentes categorías. A continuación, se enumeran las variables presentes en el DataFrame:"
   ]
  },
  {
   "cell_type": "code",
   "execution_count": 0,
   "metadata": {
    "application/vnd.databricks.v1+cell": {
     "cellMetadata": {
      "byteLimit": 2048000,
      "rowLimit": 10000
     },
     "inputWidgets": {},
     "nuid": "4f06250d-5c78-4135-8446-a2d49f94f571",
     "showTitle": false,
     "title": ""
    }
   },
   "outputs": [
    {
     "output_type": "execute_result",
     "data": {
      "text/plain": [
       "Index(['Class', 'Alcohol', 'Malic Acid', 'Ash', 'Alcalinity of Ash',\n",
       "       'Magnesium', 'Total Phenols', 'Flavanoids', 'Nonflavanoid Phenols',\n",
       "       'Proanthocyanins', 'Color Intensity', 'Hue',\n",
       "       'OD280/OD315 of Diluted Wines', 'Proline'],\n",
       "      dtype='object')"
      ]
     },
     "execution_count": 8,
     "metadata": {},
     "output_type": "execute_result"
    }
   ],
   "source": [
    "data.columns"
   ]
  },
  {
   "cell_type": "markdown",
   "metadata": {
    "application/vnd.databricks.v1+cell": {
     "cellMetadata": {
      "byteLimit": 2048000,
      "rowLimit": 10000
     },
     "inputWidgets": {},
     "nuid": "63aaba9a-beef-45bf-9caa-6268ffaea4c0",
     "showTitle": false,
     "title": ""
    }
   },
   "source": [
    "Se consultan el nombre de todas las columnas "
   ]
  },
  {
   "cell_type": "markdown",
   "metadata": {
    "application/vnd.databricks.v1+cell": {
     "cellMetadata": {
      "byteLimit": 2048000,
      "rowLimit": 10000
     },
     "inputWidgets": {},
     "nuid": "86998d26-059d-42ff-b6dd-6738334458e0",
     "showTitle": false,
     "title": ""
    }
   },
   "source": [
    "##Renombrar Columna"
   ]
  },
  {
   "cell_type": "markdown",
   "metadata": {
    "application/vnd.databricks.v1+cell": {
     "cellMetadata": {
      "byteLimit": 2048000,
      "rowLimit": 10000
     },
     "inputWidgets": {},
     "nuid": "2c150ba6-7e98-44c6-903d-0bfd6b7e1073",
     "showTitle": false,
     "title": ""
    }
   },
   "source": [
    "En este fragmento de código, estamos utilizando el método rename de pandas para cambiar el nombre de una columna en un DataFrame. Específicamente, estamos renombrando la columna 'OD280/OD315 of Diluted Wines' a 'Diluted Wines'.\n",
    "\n",
    "Primero, aplicamos el método rename al DataFrame data, pasando un diccionario a la opción columns donde la clave es el nombre actual de la columna y el valor es el nuevo nombre que queremos asignarle. El resultado se almacena en una nueva variable llamada DataNew.\n",
    "\n",
    "Finalmente, mostramos el DataFrame renombrado DataNew para verificar que el cambio se haya realizado correctamente."
   ]
  },
  {
   "cell_type": "code",
   "execution_count": 0,
   "metadata": {
    "application/vnd.databricks.v1+cell": {
     "cellMetadata": {
      "byteLimit": 2048000,
      "rowLimit": 10000
     },
     "inputWidgets": {},
     "nuid": "ac1e5ae6-75a8-40da-a7cc-e6943990c4b4",
     "showTitle": false,
     "title": ""
    }
   },
   "outputs": [
    {
     "output_type": "execute_result",
     "data": {
      "text/html": [
       "<div>\n",
       "<style scoped>\n",
       "    .dataframe tbody tr th:only-of-type {\n",
       "        vertical-align: middle;\n",
       "    }\n",
       "\n",
       "    .dataframe tbody tr th {\n",
       "        vertical-align: top;\n",
       "    }\n",
       "\n",
       "    .dataframe thead th {\n",
       "        text-align: right;\n",
       "    }\n",
       "</style>\n",
       "<table border=\"1\" class=\"dataframe\">\n",
       "  <thead>\n",
       "    <tr style=\"text-align: right;\">\n",
       "      <th></th>\n",
       "      <th>Class</th>\n",
       "      <th>Alcohol</th>\n",
       "      <th>Malic Acid</th>\n",
       "      <th>Ash</th>\n",
       "      <th>Alcalinity of Ash</th>\n",
       "      <th>Magnesium</th>\n",
       "      <th>Total Phenols</th>\n",
       "      <th>Flavanoids</th>\n",
       "      <th>Nonflavanoid Phenols</th>\n",
       "      <th>Proanthocyanins</th>\n",
       "      <th>Color Intensity</th>\n",
       "      <th>Hue</th>\n",
       "      <th>Diluted Wines</th>\n",
       "      <th>Proline</th>\n",
       "    </tr>\n",
       "  </thead>\n",
       "  <tbody>\n",
       "    <tr>\n",
       "      <th>0</th>\n",
       "      <td>1</td>\n",
       "      <td>14.23</td>\n",
       "      <td>1.71</td>\n",
       "      <td>2.43</td>\n",
       "      <td>15.6</td>\n",
       "      <td>127</td>\n",
       "      <td>2.80</td>\n",
       "      <td>3.06</td>\n",
       "      <td>0.28</td>\n",
       "      <td>2.29</td>\n",
       "      <td>5.64</td>\n",
       "      <td>1.04</td>\n",
       "      <td>3.92</td>\n",
       "      <td>1065</td>\n",
       "    </tr>\n",
       "    <tr>\n",
       "      <th>1</th>\n",
       "      <td>1</td>\n",
       "      <td>13.20</td>\n",
       "      <td>1.78</td>\n",
       "      <td>2.14</td>\n",
       "      <td>11.2</td>\n",
       "      <td>100</td>\n",
       "      <td>2.65</td>\n",
       "      <td>2.76</td>\n",
       "      <td>0.26</td>\n",
       "      <td>1.28</td>\n",
       "      <td>4.38</td>\n",
       "      <td>1.05</td>\n",
       "      <td>3.40</td>\n",
       "      <td>1050</td>\n",
       "    </tr>\n",
       "    <tr>\n",
       "      <th>2</th>\n",
       "      <td>1</td>\n",
       "      <td>13.16</td>\n",
       "      <td>2.36</td>\n",
       "      <td>2.67</td>\n",
       "      <td>18.6</td>\n",
       "      <td>101</td>\n",
       "      <td>2.80</td>\n",
       "      <td>3.24</td>\n",
       "      <td>0.30</td>\n",
       "      <td>2.81</td>\n",
       "      <td>5.68</td>\n",
       "      <td>1.03</td>\n",
       "      <td>3.17</td>\n",
       "      <td>1185</td>\n",
       "    </tr>\n",
       "    <tr>\n",
       "      <th>3</th>\n",
       "      <td>1</td>\n",
       "      <td>14.37</td>\n",
       "      <td>1.95</td>\n",
       "      <td>2.50</td>\n",
       "      <td>16.8</td>\n",
       "      <td>113</td>\n",
       "      <td>3.85</td>\n",
       "      <td>3.49</td>\n",
       "      <td>0.24</td>\n",
       "      <td>2.18</td>\n",
       "      <td>7.80</td>\n",
       "      <td>0.86</td>\n",
       "      <td>3.45</td>\n",
       "      <td>1480</td>\n",
       "    </tr>\n",
       "    <tr>\n",
       "      <th>4</th>\n",
       "      <td>1</td>\n",
       "      <td>13.24</td>\n",
       "      <td>2.59</td>\n",
       "      <td>2.87</td>\n",
       "      <td>21.0</td>\n",
       "      <td>118</td>\n",
       "      <td>2.80</td>\n",
       "      <td>2.69</td>\n",
       "      <td>0.39</td>\n",
       "      <td>1.82</td>\n",
       "      <td>4.32</td>\n",
       "      <td>1.04</td>\n",
       "      <td>2.93</td>\n",
       "      <td>735</td>\n",
       "    </tr>\n",
       "    <tr>\n",
       "      <th>...</th>\n",
       "      <td>...</td>\n",
       "      <td>...</td>\n",
       "      <td>...</td>\n",
       "      <td>...</td>\n",
       "      <td>...</td>\n",
       "      <td>...</td>\n",
       "      <td>...</td>\n",
       "      <td>...</td>\n",
       "      <td>...</td>\n",
       "      <td>...</td>\n",
       "      <td>...</td>\n",
       "      <td>...</td>\n",
       "      <td>...</td>\n",
       "      <td>...</td>\n",
       "    </tr>\n",
       "    <tr>\n",
       "      <th>173</th>\n",
       "      <td>3</td>\n",
       "      <td>13.71</td>\n",
       "      <td>5.65</td>\n",
       "      <td>2.45</td>\n",
       "      <td>20.5</td>\n",
       "      <td>95</td>\n",
       "      <td>1.68</td>\n",
       "      <td>0.61</td>\n",
       "      <td>0.52</td>\n",
       "      <td>1.06</td>\n",
       "      <td>7.70</td>\n",
       "      <td>0.64</td>\n",
       "      <td>1.74</td>\n",
       "      <td>740</td>\n",
       "    </tr>\n",
       "    <tr>\n",
       "      <th>174</th>\n",
       "      <td>3</td>\n",
       "      <td>13.40</td>\n",
       "      <td>3.91</td>\n",
       "      <td>2.48</td>\n",
       "      <td>23.0</td>\n",
       "      <td>102</td>\n",
       "      <td>1.80</td>\n",
       "      <td>0.75</td>\n",
       "      <td>0.43</td>\n",
       "      <td>1.41</td>\n",
       "      <td>7.30</td>\n",
       "      <td>0.70</td>\n",
       "      <td>1.56</td>\n",
       "      <td>750</td>\n",
       "    </tr>\n",
       "    <tr>\n",
       "      <th>175</th>\n",
       "      <td>3</td>\n",
       "      <td>13.27</td>\n",
       "      <td>4.28</td>\n",
       "      <td>2.26</td>\n",
       "      <td>20.0</td>\n",
       "      <td>120</td>\n",
       "      <td>1.59</td>\n",
       "      <td>0.69</td>\n",
       "      <td>0.43</td>\n",
       "      <td>1.35</td>\n",
       "      <td>10.20</td>\n",
       "      <td>0.59</td>\n",
       "      <td>1.56</td>\n",
       "      <td>835</td>\n",
       "    </tr>\n",
       "    <tr>\n",
       "      <th>176</th>\n",
       "      <td>3</td>\n",
       "      <td>13.17</td>\n",
       "      <td>2.59</td>\n",
       "      <td>2.37</td>\n",
       "      <td>20.0</td>\n",
       "      <td>120</td>\n",
       "      <td>1.65</td>\n",
       "      <td>0.68</td>\n",
       "      <td>0.53</td>\n",
       "      <td>1.46</td>\n",
       "      <td>9.30</td>\n",
       "      <td>0.60</td>\n",
       "      <td>1.62</td>\n",
       "      <td>840</td>\n",
       "    </tr>\n",
       "    <tr>\n",
       "      <th>177</th>\n",
       "      <td>3</td>\n",
       "      <td>14.13</td>\n",
       "      <td>4.10</td>\n",
       "      <td>2.74</td>\n",
       "      <td>24.5</td>\n",
       "      <td>96</td>\n",
       "      <td>2.05</td>\n",
       "      <td>0.76</td>\n",
       "      <td>0.56</td>\n",
       "      <td>1.35</td>\n",
       "      <td>9.20</td>\n",
       "      <td>0.61</td>\n",
       "      <td>1.60</td>\n",
       "      <td>560</td>\n",
       "    </tr>\n",
       "  </tbody>\n",
       "</table>\n",
       "<p>178 rows × 14 columns</p>\n",
       "</div>"
      ],
      "text/plain": [
       "     Class  Alcohol  Malic Acid  ...   Hue  Diluted Wines  Proline\n",
       "0        1    14.23        1.71  ...  1.04           3.92     1065\n",
       "1        1    13.20        1.78  ...  1.05           3.40     1050\n",
       "2        1    13.16        2.36  ...  1.03           3.17     1185\n",
       "3        1    14.37        1.95  ...  0.86           3.45     1480\n",
       "4        1    13.24        2.59  ...  1.04           2.93      735\n",
       "..     ...      ...         ...  ...   ...            ...      ...\n",
       "173      3    13.71        5.65  ...  0.64           1.74      740\n",
       "174      3    13.40        3.91  ...  0.70           1.56      750\n",
       "175      3    13.27        4.28  ...  0.59           1.56      835\n",
       "176      3    13.17        2.59  ...  0.60           1.62      840\n",
       "177      3    14.13        4.10  ...  0.61           1.60      560\n",
       "\n",
       "[178 rows x 14 columns]"
      ]
     },
     "execution_count": 9,
     "metadata": {},
     "output_type": "execute_result"
    }
   ],
   "source": [
    "# Usando el método 'rename' para cambiar el nombre de la columna\n",
    "# Renombramos la columna 'OD280/OD315 of Diluted Wines' a 'Diluted Wines'\n",
    "DataNew = data.rename(columns={'OD280/OD315 of Diluted Wines': 'Diluted Wines'})\n",
    "\n",
    "# Mostramos el DataFrame renombrado\n",
    "DataNew"
   ]
  },
  {
   "cell_type": "markdown",
   "metadata": {
    "application/vnd.databricks.v1+cell": {
     "cellMetadata": {
      "byteLimit": 2048000,
      "rowLimit": 10000
     },
     "inputWidgets": {},
     "nuid": "401fbc2f-fba2-43a2-8835-d798a121b2dc",
     "showTitle": false,
     "title": ""
    }
   },
   "source": [
    "Se ha renombrado la columna 'OD280/OD315 of Diluted Wines' a 'Diluted Wines' para simplificar el manejo de la variable."
   ]
  },
  {
   "cell_type": "markdown",
   "metadata": {
    "application/vnd.databricks.v1+cell": {
     "cellMetadata": {},
     "inputWidgets": {},
     "nuid": "8793b072-8375-4409-8fda-a1756fbeeb5e",
     "showTitle": false,
     "title": ""
    }
   },
   "source": [
    "## Ingenieria de datos"
   ]
  },
  {
   "cell_type": "markdown",
   "metadata": {
    "application/vnd.databricks.v1+cell": {
     "cellMetadata": {
      "byteLimit": 2048000,
      "rowLimit": 10000
     },
     "inputWidgets": {},
     "nuid": "7c45bd68-6efd-4c8e-9b33-ad6723a7c8de",
     "showTitle": false,
     "title": ""
    }
   },
   "source": [
    "### Estructura de los datos "
   ]
  },
  {
   "cell_type": "markdown",
   "metadata": {
    "application/vnd.databricks.v1+cell": {
     "cellMetadata": {
      "byteLimit": 2048000,
      "rowLimit": 10000
     },
     "inputWidgets": {},
     "nuid": "65b0186c-f194-4015-8c79-f7b91765b3c7",
     "showTitle": false,
     "title": ""
    }
   },
   "source": [
    "En este código, seleccionamos una muestra aleatoria de 2 filas del DataFrame DataNew usando una semilla aleatoria (random_state=1). Luego, transponemos el DataFrame resultante, intercambiando filas y columnas, y finalmente imprimimos el DataFrame transpuesto."
   ]
  },
  {
   "cell_type": "code",
   "execution_count": 0,
   "metadata": {
    "application/vnd.databricks.v1+cell": {
     "cellMetadata": {
      "byteLimit": 2048000,
      "rowLimit": 10000
     },
     "inputWidgets": {},
     "nuid": "596f7a5c-b82e-43fb-8117-c7a7cdb610cd",
     "showTitle": false,
     "title": ""
    }
   },
   "outputs": [
    {
     "output_type": "execute_result",
     "data": {
      "text/html": [
       "<div>\n",
       "<style scoped>\n",
       "    .dataframe tbody tr th:only-of-type {\n",
       "        vertical-align: middle;\n",
       "    }\n",
       "\n",
       "    .dataframe tbody tr th {\n",
       "        vertical-align: top;\n",
       "    }\n",
       "\n",
       "    .dataframe thead th {\n",
       "        text-align: right;\n",
       "    }\n",
       "</style>\n",
       "<table border=\"1\" class=\"dataframe\">\n",
       "  <thead>\n",
       "    <tr style=\"text-align: right;\">\n",
       "      <th></th>\n",
       "      <th>161</th>\n",
       "      <th>117</th>\n",
       "    </tr>\n",
       "  </thead>\n",
       "  <tbody>\n",
       "    <tr>\n",
       "      <th>Class</th>\n",
       "      <td>3.00</td>\n",
       "      <td>2.00</td>\n",
       "    </tr>\n",
       "    <tr>\n",
       "      <th>Alcohol</th>\n",
       "      <td>13.69</td>\n",
       "      <td>12.42</td>\n",
       "    </tr>\n",
       "    <tr>\n",
       "      <th>Malic Acid</th>\n",
       "      <td>3.26</td>\n",
       "      <td>1.61</td>\n",
       "    </tr>\n",
       "    <tr>\n",
       "      <th>Ash</th>\n",
       "      <td>2.54</td>\n",
       "      <td>2.19</td>\n",
       "    </tr>\n",
       "    <tr>\n",
       "      <th>Alcalinity of Ash</th>\n",
       "      <td>20.00</td>\n",
       "      <td>22.50</td>\n",
       "    </tr>\n",
       "    <tr>\n",
       "      <th>Magnesium</th>\n",
       "      <td>107.00</td>\n",
       "      <td>108.00</td>\n",
       "    </tr>\n",
       "    <tr>\n",
       "      <th>Total Phenols</th>\n",
       "      <td>1.83</td>\n",
       "      <td>2.00</td>\n",
       "    </tr>\n",
       "    <tr>\n",
       "      <th>Flavanoids</th>\n",
       "      <td>0.56</td>\n",
       "      <td>2.09</td>\n",
       "    </tr>\n",
       "    <tr>\n",
       "      <th>Nonflavanoid Phenols</th>\n",
       "      <td>0.50</td>\n",
       "      <td>0.34</td>\n",
       "    </tr>\n",
       "    <tr>\n",
       "      <th>Proanthocyanins</th>\n",
       "      <td>0.80</td>\n",
       "      <td>1.61</td>\n",
       "    </tr>\n",
       "    <tr>\n",
       "      <th>Color Intensity</th>\n",
       "      <td>5.88</td>\n",
       "      <td>2.06</td>\n",
       "    </tr>\n",
       "    <tr>\n",
       "      <th>Hue</th>\n",
       "      <td>0.96</td>\n",
       "      <td>1.06</td>\n",
       "    </tr>\n",
       "    <tr>\n",
       "      <th>Diluted Wines</th>\n",
       "      <td>1.82</td>\n",
       "      <td>2.96</td>\n",
       "    </tr>\n",
       "    <tr>\n",
       "      <th>Proline</th>\n",
       "      <td>680.00</td>\n",
       "      <td>345.00</td>\n",
       "    </tr>\n",
       "  </tbody>\n",
       "</table>\n",
       "</div>"
      ],
      "text/plain": [
       "                         161     117\n",
       "Class                   3.00    2.00\n",
       "Alcohol                13.69   12.42\n",
       "Malic Acid              3.26    1.61\n",
       "Ash                     2.54    2.19\n",
       "Alcalinity of Ash      20.00   22.50\n",
       "Magnesium             107.00  108.00\n",
       "Total Phenols           1.83    2.00\n",
       "Flavanoids              0.56    2.09\n",
       "Nonflavanoid Phenols    0.50    0.34\n",
       "Proanthocyanins         0.80    1.61\n",
       "Color Intensity         5.88    2.06\n",
       "Hue                     0.96    1.06\n",
       "Diluted Wines           1.82    2.96\n",
       "Proline               680.00  345.00"
      ]
     },
     "execution_count": 10,
     "metadata": {},
     "output_type": "execute_result"
    }
   ],
   "source": [
    "# Seleccionamos una muestra de 2 filas del DataFrame 'data' con una semilla aleatoria de 1\n",
    "sampled_data = DataNew.sample(n=2, random_state=1)\n",
    "\n",
    "# Transpone el DataFrame resultante\n",
    "transposed_data = sampled_data.T\n",
    "\n",
    "# Imprime el DataFrame transpuesto\n",
    "transposed_data"
   ]
  },
  {
   "cell_type": "markdown",
   "metadata": {
    "application/vnd.databricks.v1+cell": {
     "cellMetadata": {
      "byteLimit": 2048000,
      "rowLimit": 10000
     },
     "inputWidgets": {},
     "nuid": "3fafb6d2-fc19-4bed-89a0-e1aafbd2897f",
     "showTitle": false,
     "title": ""
    }
   },
   "source": [
    "Se examina la estructura de los datos para identificar si hay variables que contengan diccionarios, listas de diccionarios u otros tipos de datos especiales."
   ]
  },
  {
   "cell_type": "markdown",
   "metadata": {
    "application/vnd.databricks.v1+cell": {
     "cellMetadata": {
      "byteLimit": 2048000,
      "rowLimit": 10000
     },
     "inputWidgets": {},
     "nuid": "3195a69b-55bb-455a-9dca-4c063a6f63d5",
     "showTitle": false,
     "title": ""
    }
   },
   "source": [
    "### Identificación del tipo de datos de cada variable"
   ]
  },
  {
   "cell_type": "markdown",
   "metadata": {
    "application/vnd.databricks.v1+cell": {
     "cellMetadata": {
      "byteLimit": 2048000,
      "rowLimit": 10000
     },
     "inputWidgets": {},
     "nuid": "cd11aad4-166a-462d-8b18-481a8b1ea62c",
     "showTitle": false,
     "title": ""
    }
   },
   "source": [
    "El código define una función check_type que verifica el tipo de dato de una entrada y retorna su nombre como una cadena. Luego, aplica esta función a cada columna de un DataFrame DataNew para obtener una lista de los tipos de datos únicos presentes en cada columna. El resultado es un diccionario column_types donde las claves son los nombres de las columnas y los valores son listas de los tipos de datos únicos encontrados en cada columna."
   ]
  },
  {
   "cell_type": "code",
   "execution_count": 0,
   "metadata": {
    "application/vnd.databricks.v1+cell": {
     "cellMetadata": {
      "byteLimit": 2048000,
      "rowLimit": 10000
     },
     "inputWidgets": {},
     "nuid": "597a998f-84df-4147-92c6-d09fc4bb99be",
     "showTitle": false,
     "title": ""
    }
   },
   "outputs": [
    {
     "output_type": "execute_result",
     "data": {
      "text/plain": [
       "{'Class': ['int'],\n",
       " 'Alcohol': ['float'],\n",
       " 'Malic Acid': ['float'],\n",
       " 'Ash': ['float'],\n",
       " 'Alcalinity of Ash': ['float'],\n",
       " 'Magnesium': ['int'],\n",
       " 'Total Phenols': ['float'],\n",
       " 'Flavanoids': ['float'],\n",
       " 'Nonflavanoid Phenols': ['float'],\n",
       " 'Proanthocyanins': ['float'],\n",
       " 'Color Intensity': ['float'],\n",
       " 'Hue': ['float'],\n",
       " 'Diluted Wines': ['float'],\n",
       " 'Proline': ['int']}"
      ]
     },
     "execution_count": 11,
     "metadata": {},
     "output_type": "execute_result"
    }
   ],
   "source": [
    "def check_type(x):\n",
    "    \"\"\"\n",
    "    Verifica el tipo de dato de la entrada y retorna su nombre.\n",
    "\n",
    "    Args:\n",
    "        x: El dato a verificar.\n",
    "\n",
    "    Returns:\n",
    "        str: Nombre del tipo de dato.\n",
    "    \"\"\"\n",
    "    if isinstance(x, dict):\n",
    "        return 'dict'\n",
    "    elif isinstance(x, list):\n",
    "        return 'list'\n",
    "    else:\n",
    "        return type(x).__name__\n",
    "\n",
    "# Aplicar la función a cada columna y obtener los tipos únicos\n",
    "column_types = {\n",
    "    col: DataNew[col].apply(check_type).unique().tolist()\n",
    "    for col in DataNew.columns\n",
    "}\n",
    "\n",
    "column_types"
   ]
  },
  {
   "cell_type": "markdown",
   "metadata": {
    "application/vnd.databricks.v1+cell": {
     "cellMetadata": {
      "byteLimit": 2048000,
      "rowLimit": 10000
     },
     "inputWidgets": {},
     "nuid": "90802e6d-5794-4e41-8437-17fe0f321140",
     "showTitle": false,
     "title": ""
    }
   },
   "source": [
    "Con el anterior codigo se identifico que tipode variables se estan manejando, en este caso tenemos variables numericas int y float"
   ]
  },
  {
   "cell_type": "markdown",
   "metadata": {
    "application/vnd.databricks.v1+cell": {
     "cellMetadata": {
      "byteLimit": 2048000,
      "rowLimit": 10000
     },
     "inputWidgets": {},
     "nuid": "e2c1cc52-a340-46c7-b603-b8b922fa40d5",
     "showTitle": false,
     "title": ""
    }
   },
   "source": [
    "### Valores faltantes de los datos "
   ]
  },
  {
   "cell_type": "markdown",
   "metadata": {
    "application/vnd.databricks.v1+cell": {
     "cellMetadata": {
      "byteLimit": 2048000,
      "rowLimit": 10000
     },
     "inputWidgets": {},
     "nuid": "06f16a0e-a8f8-4b7e-98f7-37715167c4db",
     "showTitle": false,
     "title": ""
    }
   },
   "source": [
    "El código utiliza el método info() de Pandas para obtener un resumen conciso de la estructura del DataFrame DataNew, incluyendo el número de valores no nulos y el uso de memoria. Luego, almacena esta información en la variable nan_counts y la muestra."
   ]
  },
  {
   "cell_type": "code",
   "execution_count": 0,
   "metadata": {
    "application/vnd.databricks.v1+cell": {
     "cellMetadata": {
      "byteLimit": 2048000,
      "rowLimit": 10000
     },
     "inputWidgets": {},
     "nuid": "55f53575-1fad-4ed2-9597-13106dbf901b",
     "showTitle": false,
     "title": ""
    }
   },
   "outputs": [
    {
     "output_type": "stream",
     "name": "stdout",
     "output_type": "stream",
     "text": [
      "<class 'pandas.core.frame.DataFrame'>\nRangeIndex: 178 entries, 0 to 177\nData columns (total 14 columns):\n #   Column                Non-Null Count  Dtype  \n---  ------                --------------  -----  \n 0   Class                 178 non-null    int64  \n 1   Alcohol               178 non-null    float64\n 2   Malic Acid            178 non-null    float64\n 3   Ash                   178 non-null    float64\n 4   Alcalinity of Ash     178 non-null    float64\n 5   Magnesium             178 non-null    int64  \n 6   Total Phenols         178 non-null    float64\n 7   Flavanoids            178 non-null    float64\n 8   Nonflavanoid Phenols  178 non-null    float64\n 9   Proanthocyanins       178 non-null    float64\n 10  Color Intensity       178 non-null    float64\n 11  Hue                   178 non-null    float64\n 12  Diluted Wines         178 non-null    float64\n 13  Proline               178 non-null    int64  \ndtypes: float64(11), int64(3)\nmemory usage: 19.6 KB\n"
     ]
    }
   ],
   "source": [
    "# Obtener información del DataFrame y contar valores NaN\n",
    "nan_counts = DataNew.info()\n",
    "\n",
    "# Mostrar el conteo de valores NaN\n",
    "nan_counts"
   ]
  },
  {
   "cell_type": "markdown",
   "metadata": {
    "application/vnd.databricks.v1+cell": {
     "cellMetadata": {
      "byteLimit": 2048000,
      "rowLimit": 10000
     },
     "inputWidgets": {},
     "nuid": "3a875170-f2d8-4d80-b6c5-41b7bbfdd52c",
     "showTitle": false,
     "title": ""
    }
   },
   "source": [
    "Tras realizar un análisis exhaustivo de los datos correspondientes a cada una de las variables, se ha identificado que no existen datos faltantes en ninguna de ellas."
   ]
  },
  {
   "cell_type": "markdown",
   "metadata": {
    "application/vnd.databricks.v1+cell": {
     "cellMetadata": {
      "byteLimit": 2048000,
      "rowLimit": 10000
     },
     "inputWidgets": {},
     "nuid": "044447fc-8f0e-4a79-a9ea-eb914b9a9fae",
     "showTitle": false,
     "title": ""
    }
   },
   "source": [
    "### Descripción estadistica de los datos numericos"
   ]
  },
  {
   "cell_type": "code",
   "execution_count": 0,
   "metadata": {
    "application/vnd.databricks.v1+cell": {
     "cellMetadata": {
      "byteLimit": 2048000,
      "rowLimit": 10000
     },
     "inputWidgets": {},
     "nuid": "ff500401-21c4-4d91-ac9f-31aa9c65cdd9",
     "showTitle": false,
     "title": ""
    }
   },
   "outputs": [
    {
     "output_type": "execute_result",
     "data": {
      "text/html": [
       "<div>\n",
       "<style scoped>\n",
       "    .dataframe tbody tr th:only-of-type {\n",
       "        vertical-align: middle;\n",
       "    }\n",
       "\n",
       "    .dataframe tbody tr th {\n",
       "        vertical-align: top;\n",
       "    }\n",
       "\n",
       "    .dataframe thead th {\n",
       "        text-align: right;\n",
       "    }\n",
       "</style>\n",
       "<table border=\"1\" class=\"dataframe\">\n",
       "  <thead>\n",
       "    <tr style=\"text-align: right;\">\n",
       "      <th></th>\n",
       "      <th>Class</th>\n",
       "      <th>Alcohol</th>\n",
       "      <th>Malic Acid</th>\n",
       "      <th>Ash</th>\n",
       "      <th>Alcalinity of Ash</th>\n",
       "      <th>Magnesium</th>\n",
       "      <th>Total Phenols</th>\n",
       "      <th>Flavanoids</th>\n",
       "      <th>Nonflavanoid Phenols</th>\n",
       "      <th>Proanthocyanins</th>\n",
       "      <th>Color Intensity</th>\n",
       "      <th>Hue</th>\n",
       "      <th>Diluted Wines</th>\n",
       "      <th>Proline</th>\n",
       "    </tr>\n",
       "  </thead>\n",
       "  <tbody>\n",
       "    <tr>\n",
       "      <th>count</th>\n",
       "      <td>178.000000</td>\n",
       "      <td>178.000000</td>\n",
       "      <td>178.000000</td>\n",
       "      <td>178.000000</td>\n",
       "      <td>178.000000</td>\n",
       "      <td>178.000000</td>\n",
       "      <td>178.000000</td>\n",
       "      <td>178.000000</td>\n",
       "      <td>178.000000</td>\n",
       "      <td>178.000000</td>\n",
       "      <td>178.000000</td>\n",
       "      <td>178.000000</td>\n",
       "      <td>178.000000</td>\n",
       "      <td>178.000000</td>\n",
       "    </tr>\n",
       "    <tr>\n",
       "      <th>mean</th>\n",
       "      <td>1.938202</td>\n",
       "      <td>13.000618</td>\n",
       "      <td>2.336348</td>\n",
       "      <td>2.366517</td>\n",
       "      <td>19.494944</td>\n",
       "      <td>99.741573</td>\n",
       "      <td>2.295112</td>\n",
       "      <td>2.029270</td>\n",
       "      <td>0.361854</td>\n",
       "      <td>1.590899</td>\n",
       "      <td>5.058090</td>\n",
       "      <td>0.957449</td>\n",
       "      <td>2.611685</td>\n",
       "      <td>746.893258</td>\n",
       "    </tr>\n",
       "    <tr>\n",
       "      <th>std</th>\n",
       "      <td>0.775035</td>\n",
       "      <td>0.811827</td>\n",
       "      <td>1.117146</td>\n",
       "      <td>0.274344</td>\n",
       "      <td>3.339564</td>\n",
       "      <td>14.282484</td>\n",
       "      <td>0.625851</td>\n",
       "      <td>0.998859</td>\n",
       "      <td>0.124453</td>\n",
       "      <td>0.572359</td>\n",
       "      <td>2.318286</td>\n",
       "      <td>0.228572</td>\n",
       "      <td>0.709990</td>\n",
       "      <td>314.907474</td>\n",
       "    </tr>\n",
       "    <tr>\n",
       "      <th>min</th>\n",
       "      <td>1.000000</td>\n",
       "      <td>11.030000</td>\n",
       "      <td>0.740000</td>\n",
       "      <td>1.360000</td>\n",
       "      <td>10.600000</td>\n",
       "      <td>70.000000</td>\n",
       "      <td>0.980000</td>\n",
       "      <td>0.340000</td>\n",
       "      <td>0.130000</td>\n",
       "      <td>0.410000</td>\n",
       "      <td>1.280000</td>\n",
       "      <td>0.480000</td>\n",
       "      <td>1.270000</td>\n",
       "      <td>278.000000</td>\n",
       "    </tr>\n",
       "    <tr>\n",
       "      <th>25%</th>\n",
       "      <td>1.000000</td>\n",
       "      <td>12.362500</td>\n",
       "      <td>1.602500</td>\n",
       "      <td>2.210000</td>\n",
       "      <td>17.200000</td>\n",
       "      <td>88.000000</td>\n",
       "      <td>1.742500</td>\n",
       "      <td>1.205000</td>\n",
       "      <td>0.270000</td>\n",
       "      <td>1.250000</td>\n",
       "      <td>3.220000</td>\n",
       "      <td>0.782500</td>\n",
       "      <td>1.937500</td>\n",
       "      <td>500.500000</td>\n",
       "    </tr>\n",
       "    <tr>\n",
       "      <th>50%</th>\n",
       "      <td>2.000000</td>\n",
       "      <td>13.050000</td>\n",
       "      <td>1.865000</td>\n",
       "      <td>2.360000</td>\n",
       "      <td>19.500000</td>\n",
       "      <td>98.000000</td>\n",
       "      <td>2.355000</td>\n",
       "      <td>2.135000</td>\n",
       "      <td>0.340000</td>\n",
       "      <td>1.555000</td>\n",
       "      <td>4.690000</td>\n",
       "      <td>0.965000</td>\n",
       "      <td>2.780000</td>\n",
       "      <td>673.500000</td>\n",
       "    </tr>\n",
       "    <tr>\n",
       "      <th>75%</th>\n",
       "      <td>3.000000</td>\n",
       "      <td>13.677500</td>\n",
       "      <td>3.082500</td>\n",
       "      <td>2.557500</td>\n",
       "      <td>21.500000</td>\n",
       "      <td>107.000000</td>\n",
       "      <td>2.800000</td>\n",
       "      <td>2.875000</td>\n",
       "      <td>0.437500</td>\n",
       "      <td>1.950000</td>\n",
       "      <td>6.200000</td>\n",
       "      <td>1.120000</td>\n",
       "      <td>3.170000</td>\n",
       "      <td>985.000000</td>\n",
       "    </tr>\n",
       "    <tr>\n",
       "      <th>max</th>\n",
       "      <td>3.000000</td>\n",
       "      <td>14.830000</td>\n",
       "      <td>5.800000</td>\n",
       "      <td>3.230000</td>\n",
       "      <td>30.000000</td>\n",
       "      <td>162.000000</td>\n",
       "      <td>3.880000</td>\n",
       "      <td>5.080000</td>\n",
       "      <td>0.660000</td>\n",
       "      <td>3.580000</td>\n",
       "      <td>13.000000</td>\n",
       "      <td>1.710000</td>\n",
       "      <td>4.000000</td>\n",
       "      <td>1680.000000</td>\n",
       "    </tr>\n",
       "  </tbody>\n",
       "</table>\n",
       "</div>"
      ],
      "text/plain": [
       "            Class     Alcohol  ...  Diluted Wines      Proline\n",
       "count  178.000000  178.000000  ...     178.000000   178.000000\n",
       "mean     1.938202   13.000618  ...       2.611685   746.893258\n",
       "std      0.775035    0.811827  ...       0.709990   314.907474\n",
       "min      1.000000   11.030000  ...       1.270000   278.000000\n",
       "25%      1.000000   12.362500  ...       1.937500   500.500000\n",
       "50%      2.000000   13.050000  ...       2.780000   673.500000\n",
       "75%      3.000000   13.677500  ...       3.170000   985.000000\n",
       "max      3.000000   14.830000  ...       4.000000  1680.000000\n",
       "\n",
       "[8 rows x 14 columns]"
      ]
     },
     "execution_count": 13,
     "metadata": {},
     "output_type": "execute_result"
    }
   ],
   "source": [
    "DataNew.describe()"
   ]
  },
  {
   "cell_type": "markdown",
   "metadata": {
    "application/vnd.databricks.v1+cell": {
     "cellMetadata": {
      "byteLimit": 2048000,
      "rowLimit": 10000
     },
     "inputWidgets": {},
     "nuid": "a6219bd3-bf58-44bd-a891-01c1a21befb1",
     "showTitle": false,
     "title": ""
    }
   },
   "source": [
    "**Alcohol**: Media: 13.0006% Desviación estándar: 0.8118% Análisis: La media indica que el contenido promedio de alcohol en las muestras de vino es del 13%. La desviación estándar relativamente baja sugiere que la mayoría de los vinos tienen un contenido de alcohol cercano a este valor. Los valores mínimo y máximo (11.03% y 14.83%) muestran que hay cierta variabilidad, pero no extrema.\n",
    "\n",
    "**Malic Acid: Media**: 2.3363% Desviación estándar: 1.1171% Análisis: El Malic Acid tiene una mayor variabilidad en comparación con el alcohol, como lo indica la desviación estándar. Esto sugiere que las muestras de vino tienen diferentes niveles de acidez, lo cual puede influir en el sabor y la calidad del vino.\n",
    "\n",
    "**Ash**: Media: 2.3665% Desviación estándar: 0.2743% Análisis: La ceniza tiene una media de 2.37% y una desviación estándar baja, lo que indica que la mayoría de las muestras tienen un contenido de ceniza similar. Esto es importante para la estabilidad y la calidad del vino.\n",
    "\n",
    "**Alcalinity of Ash**: Media: 19.4949 Desviación estándar: 3.3396 Análisis: La Alcalinity of Ash muestra una mayor variabilidad, lo que puede afectar la percepción del sabor del vino. Los valores extremos (mínimo de 10.60 y máximo de 30.00) indican una amplia gama de alcalinidad en las muestras.\n",
    "\n",
    "**Magnesium**: Media: 99.7416 Desviación estándar: 14.2825 Análisis: El Magnesium tiene una media cercana a 100, con una desviación estándar considerable. Esto sugiere que hay una variabilidad significativa en el contenido de Magnesium, lo cual puede influir en la fermentación y el sabor del vino.\n",
    "\n",
    "**Total Phenols**: Media: 2.2951% Desviación estándar: 0.6259% Análisis: Los Total Phenols tienen una media de 2.30% y una desviación estándar moderada, indicando una variabilidad en el contenido de fenoles que puede afectar las propiedades antioxidantes y el sabor del vino.\n",
    "\n",
    "**Flavanoids**: Media: 2.0293% Desviación estándar: 0.9989% Análisis: Los Flavanoids muestran una variabilidad considerable, lo que puede influir en el color y el sabor del vino. La media de 2.03% sugiere un contenido moderado en las muestras.\n",
    "\n",
    "**Nonflavanoid Phenols**: Media: 0.3619% Desviación estándar: 0.1245% Análisis: Los fenoles no flavonoides tienen una media baja y una desviación estándar también baja, indicando poca variabilidad. Esto sugiere que la mayoría de las muestras tienen un contenido similar de estos compuestos.\n",
    "\n",
    "**Proanthocyanins**: Media: 1.5909% Desviación estándar: 0.5724% Análisis: Las Proanthocyanins tienen una variabilidad moderada, lo que puede afectar el color y la estabilidad del vino. La media de 1.59% indica un contenido moderado en las muestras.\n",
    "\n",
    "**Color Intensity**: Media: 5.0581 Desviación estándar: 2.3183 Análisis: La Color Intensity muestra una alta variabilidad, lo que puede influir en la percepción visual del vino. Los valores extremos indican que algunas muestras son mucho más intensas en color que otras.\n",
    "\n",
    "**Hue**: Media: 0.9574 Desviación estándar: 0.2286 Análisis: El tono tiene una media cercana a 1 y una desviación estándar baja, indicando que la mayoría de las muestras tienen un tono similar. Esto es importante para la consistencia del color del vino.\n",
    "\n",
    "**Diluted Wines**: Media: 2.6117 Desviación estándar: 0.7100 Análisis: Los vinos diluidos tienen una variabilidad moderada, lo que puede afectar la percepción del sabor y la calidad del vino. La media de 2.61 indica un contenido moderado en las muestras.\n",
    "\n",
    "**Proline**: Media: 746.8933 Desviación estándar: 314.9075 Análisis: La proline muestra una alta variabilidad, lo que puede influir en el sabor y la textura del vino. Los valores extremos indican que algunas muestras tienen un contenido de proline mucho mayor que otras.\n"
   ]
  },
  {
   "cell_type": "markdown",
   "metadata": {
    "application/vnd.databricks.v1+cell": {
     "cellMetadata": {
      "byteLimit": 2048000,
      "rowLimit": 10000
     },
     "inputWidgets": {},
     "nuid": "1c544c59-5127-418f-b607-b5dc296b8600",
     "showTitle": false,
     "title": ""
    }
   },
   "source": [
    "### Identificación de datos atipicos"
   ]
  },
  {
   "cell_type": "markdown",
   "metadata": {
    "application/vnd.databricks.v1+cell": {
     "cellMetadata": {
      "byteLimit": 2048000,
      "rowLimit": 10000
     },
     "inputWidgets": {},
     "nuid": "320fd480-ed5a-4d01-9d5d-52e29f42cc69",
     "showTitle": false,
     "title": ""
    }
   },
   "source": [
    "El código crea una figura de tamaño específico y una cuadrícula de subplots de 4x4. Luego, grafica un boxplot para cada variable de una lista en su respectivo subplot, ajustando el diseño para evitar solapamientos. Finalmente, muestra la figura resultante."
   ]
  },
  {
   "cell_type": "code",
   "execution_count": 0,
   "metadata": {
    "application/vnd.databricks.v1+cell": {
     "cellMetadata": {
      "byteLimit": 2048000,
      "rowLimit": 10000
     },
     "inputWidgets": {},
     "nuid": "e239aa57-689f-4fb0-bcfd-b4369ae5d030",
     "showTitle": false,
     "title": ""
    }
   },
   "outputs": [
    {
     "output_type": "display_data",
     "data": {
      "image/png": "[encoded data removed]",
      "text/plain": [
       "<Figure size 1500x1000 with 16 Axes>"
      ]
     },
     "metadata": {},
     "output_type": "display_data"
    }
   ],
   "source": [
    "# Crear la figura con tamaño especificado\n",
    "fig = plt.figure(figsize=(15, 10))\n",
    "fig.clf()\n",
    "\n",
    "# Crear una cuadrícula de subplots de 4x4\n",
    "ax = fig.subplots(4, 4)\n",
    "\n",
    "# Lista de variables a graficar\n",
    "variables = [\n",
    "    'Class', 'Alcohol', 'Malic Acid', 'Ash', 'Alcalinity of Ash',\n",
    "    'Magnesium', 'Total Phenols', 'Flavanoids', 'Nonflavanoid Phenols',\n",
    "    'Proanthocyanins', 'Color Intensity', 'Hue',\n",
    "    'Diluted Wines', 'Proline'\n",
    "]\n",
    "\n",
    "# Graficar cada variable en su respectivo subplot\n",
    "for i, var in enumerate(variables):\n",
    "    row = i // 4\n",
    "    col = i % 4\n",
    "    ax[row, col].boxplot(DataNew[var].dropna())\n",
    "    ax[row, col].set_title(var)\n",
    "\n",
    "# Ajustar el diseño para evitar solapamientos\n",
    "fig.tight_layout()\n",
    "\n",
    "# Mostrar la figura\n",
    "plt.show()\n"
   ]
  },
  {
   "cell_type": "markdown",
   "metadata": {
    "application/vnd.databricks.v1+cell": {
     "cellMetadata": {
      "byteLimit": 2048000,
      "rowLimit": 10000
     },
     "inputWidgets": {},
     "nuid": "619b6420-0f36-42c4-8836-e132248ef36a",
     "showTitle": false,
     "title": ""
    }
   },
   "source": [
    "En el diagrama de cajas se pueden identificar las variables que contienen datos atípicos. En este caso, se evidencia la presencia de estos datos en las variables: Malic Acid, Ash, Alcalinity of Ash, Magnesium, Proanthocyanins, Color Intensity y Hue.\n",
    "\n",
    "Dado que se dispone de pocos datos para eliminarlos, se procederá a realizar un procesamiento especial para manejarlos adecuadamente."
   ]
  },
  {
   "cell_type": "markdown",
   "metadata": {
    "application/vnd.databricks.v1+cell": {
     "cellMetadata": {
      "byteLimit": 2048000,
      "rowLimit": 10000
     },
     "inputWidgets": {},
     "nuid": "916b0803-223d-45a3-8f10-82001f8be6d5",
     "showTitle": false,
     "title": ""
    }
   },
   "source": [
    "### Identifica datos atípicos por variable"
   ]
  },
  {
   "cell_type": "markdown",
   "metadata": {
    "application/vnd.databricks.v1+cell": {
     "cellMetadata": {
      "byteLimit": 2048000,
      "rowLimit": 10000
     },
     "inputWidgets": {},
     "nuid": "6815315a-2ae1-4a4b-b5a1-b5bcceec6cc1",
     "showTitle": false,
     "title": ""
    }
   },
   "source": [
    "El código define una función func_atip que identifica datos atípicos en una variable utilizando el rango intercuartílico (IQR). Aplica esta función a varias variables del DataFrame DataNew, creando nuevas columnas que indican si un dato es atípico (1) o no (0). Finalmente, suma los datos atípicos de las variables especificadas y los imprime."
   ]
  },
  {
   "cell_type": "code",
   "execution_count": 0,
   "metadata": {
    "application/vnd.databricks.v1+cell": {
     "cellMetadata": {
      "byteLimit": 2048000,
      "rowLimit": 10000
     },
     "inputWidgets": {},
     "nuid": "2d149065-5a06-47f7-abdd-bf08aa584722",
     "showTitle": false,
     "title": ""
    }
   },
   "outputs": [
    {
     "output_type": "stream",
     "name": "stdout",
     "output_type": "stream",
     "text": [
      "MalicAcid_atipico          3\nAsh_atipico                3\nAlcalinityofAsh_atipico    4\nMagnesium_atipico          4\nProanthocyanins_atipico    2\nColorIntensity_atipico     4\nHue_atipico                1\ndtype: int64\n"
     ]
    }
   ],
   "source": [
    "def func_atip(variable_atip, variable_out):\n",
    "    \"\"\"\n",
    "    Identifica datos atípicos en una variable utilizando el rango intercuartílico (IQR).\n",
    "\n",
    "    Parameters:\n",
    "    variable_atip (str): Nombre de la variable a analizar.\n",
    "    variable_out (str): Nombre de la variable de salida que indicará si un dato es atípico (1) o no (0).\n",
    "    \"\"\"\n",
    "    # Calcular el IQR\n",
    "    IQR = np.percentile(DataNew[variable_atip].dropna(), 75) - np.percentile(DataNew[variable_atip].dropna(), 25)\n",
    "    # Calcular los límites superior e inferior\n",
    "    upper = np.percentile(DataNew[variable_atip].dropna(), 75) + (1.5 * IQR)\n",
    "    lower = np.percentile(DataNew[variable_atip].dropna(), 25) - (1.5 * IQR)\n",
    "    # Identificar datos atípicos\n",
    "    DataNew[variable_out] = np.where((DataNew[variable_atip] < lower) | (DataNew[variable_atip] > upper), 1, 0)\n",
    "\n",
    "# Aplicar la función a las variables especificadas\n",
    "variables = [\n",
    "    (\"Malic Acid\", \"MalicAcid_atipico\"),\n",
    "    (\"Ash\", \"Ash_atipico\"),\n",
    "    (\"Alcalinity of Ash\", \"AlcalinityofAsh_atipico\"),\n",
    "    (\"Magnesium\", \"Magnesium_atipico\"),\n",
    "    (\"Proanthocyanins\", \"Proanthocyanins_atipico\"),\n",
    "    (\"Color Intensity\", \"ColorIntensity_atipico\"),\n",
    "    (\"Hue\", \"Hue_atipico\")\n",
    "]\n",
    "\n",
    "for var_atip, var_out in variables:\n",
    "    func_atip(variable_atip=var_atip, variable_out=var_out)\n",
    "\n",
    "# Sumar los datos atípicos de la variable \"Malic Acid\"\n",
    "outlier_sums = DataNew[[\"MalicAcid_atipico\",\"Ash_atipico\", \"AlcalinityofAsh_atipico\", \"Magnesium_atipico\",\"Proanthocyanins_atipico\",\"ColorIntensity_atipico\",\"Hue_atipico\"]].sum()\n",
    "\n",
    "print (outlier_sums)"
   ]
  },
  {
   "cell_type": "markdown",
   "metadata": {
    "application/vnd.databricks.v1+cell": {
     "cellMetadata": {
      "byteLimit": 2048000,
      "rowLimit": 10000
     },
     "inputWidgets": {},
     "nuid": "969c95d7-d2f3-4811-8d3e-ff52599643c0",
     "showTitle": false,
     "title": ""
    }
   },
   "source": [
    "* Malic Acid: Se encontraron 3 datos atípicos. Estos valores pueden indicar variaciones significativas en la acidez málica, lo que podría afectar el perfil de sabor del producto.\n",
    "\n",
    "* Ash: Se identificaron 3 datos atípicos. La presencia de estos valores puede reflejar diferencias en el contenido de cenizas, lo cual es importante para la calidad y composición del producto.\n",
    "\n",
    "* Alcalinity of Ash: Esta variable presentó 4 datos atípicos. Los valores atípicos en la alcalinidad de las cenizas pueden influir en la estabilidad y características químicas del producto.\n",
    "\n",
    "* Magnesium: Se detectaron 4 datos atípicos. Las variaciones en el contenido de magnesio pueden afectar las propiedades nutricionales y la calidad del producto.\n",
    "Proanthocyanins: Se encontraron 2 datos atípicos. Estos valores pueden indicar diferencias en la concentración de proantocianidinas, compuestos que contribuyen a las propiedades antioxidantes del producto.\n",
    "\n",
    "* Color Intensity: Se identificaron 4 datos atípicos. La intensidad del color es un atributo visual importante, y los valores atípicos pueden reflejar variaciones en la apariencia del producto.\n",
    "\n",
    "* Hue: Se detectó 1 dato atípico. El tono del color es otro aspecto visual relevante, y la presencia de un valor atípico puede indicar una desviación en la tonalidad esperada."
   ]
  },
  {
   "cell_type": "markdown",
   "metadata": {
    "application/vnd.databricks.v1+cell": {
     "cellMetadata": {
      "byteLimit": 2048000,
      "rowLimit": 10000
     },
     "inputWidgets": {},
     "nuid": "bb5e4673-edcb-4d87-adb5-097d07328783",
     "showTitle": false,
     "title": ""
    }
   },
   "source": [
    "### Datos atipicos por la variable objectivo"
   ]
  },
  {
   "cell_type": "markdown",
   "metadata": {
    "application/vnd.databricks.v1+cell": {
     "cellMetadata": {
      "byteLimit": 2048000,
      "rowLimit": 10000
     },
     "inputWidgets": {},
     "nuid": "a6bf4bce-06fd-4f1c-bfdc-04539d1bc159",
     "showTitle": false,
     "title": ""
    }
   },
   "source": [
    "Este código realiza una agrupación y suma de datos en un DataFrame denominado DataNew. Primero, selecciona un conjunto de columnas específicas relacionadas con características atípicas de una variable. Luego, agrupa estos datos por la columna \"Class\" y calcula la suma de los valores en las columnas seleccionadas para cada grupo. Finalmente, muestra el resultado de esta agregación, proporcionando una visión consolidada de las características atípicas por clase."
   ]
  },
  {
   "cell_type": "code",
   "execution_count": 0,
   "metadata": {
    "application/vnd.databricks.v1+cell": {
     "cellMetadata": {
      "byteLimit": 2048000,
      "rowLimit": 10000
     },
     "inputWidgets": {},
     "nuid": "47afdcfe-47e8-432d-b2ab-5d34c264a68c",
     "showTitle": false,
     "title": ""
    }
   },
   "outputs": [
    {
     "output_type": "execute_result",
     "data": {
      "text/html": [
       "<div>\n",
       "<style scoped>\n",
       "    .dataframe tbody tr th:only-of-type {\n",
       "        vertical-align: middle;\n",
       "    }\n",
       "\n",
       "    .dataframe tbody tr th {\n",
       "        vertical-align: top;\n",
       "    }\n",
       "\n",
       "    .dataframe thead th {\n",
       "        text-align: right;\n",
       "    }\n",
       "</style>\n",
       "<table border=\"1\" class=\"dataframe\">\n",
       "  <thead>\n",
       "    <tr style=\"text-align: right;\">\n",
       "      <th></th>\n",
       "      <th>MalicAcid_atipico</th>\n",
       "      <th>Ash_atipico</th>\n",
       "      <th>AlcalinityofAsh_atipico</th>\n",
       "      <th>Magnesium_atipico</th>\n",
       "      <th>Proanthocyanins_atipico</th>\n",
       "      <th>ColorIntensity_atipico</th>\n",
       "      <th>Hue_atipico</th>\n",
       "    </tr>\n",
       "    <tr>\n",
       "      <th>Class</th>\n",
       "      <th></th>\n",
       "      <th></th>\n",
       "      <th></th>\n",
       "      <th></th>\n",
       "      <th></th>\n",
       "      <th></th>\n",
       "      <th></th>\n",
       "    </tr>\n",
       "  </thead>\n",
       "  <tbody>\n",
       "    <tr>\n",
       "      <th>1</th>\n",
       "      <td>0</td>\n",
       "      <td>1</td>\n",
       "      <td>0</td>\n",
       "      <td>0</td>\n",
       "      <td>0</td>\n",
       "      <td>0</td>\n",
       "      <td>0</td>\n",
       "    </tr>\n",
       "    <tr>\n",
       "      <th>2</th>\n",
       "      <td>1</td>\n",
       "      <td>2</td>\n",
       "      <td>4</td>\n",
       "      <td>4</td>\n",
       "      <td>2</td>\n",
       "      <td>0</td>\n",
       "      <td>1</td>\n",
       "    </tr>\n",
       "    <tr>\n",
       "      <th>3</th>\n",
       "      <td>2</td>\n",
       "      <td>0</td>\n",
       "      <td>0</td>\n",
       "      <td>0</td>\n",
       "      <td>0</td>\n",
       "      <td>4</td>\n",
       "      <td>0</td>\n",
       "    </tr>\n",
       "  </tbody>\n",
       "</table>\n",
       "</div>"
      ],
      "text/plain": [
       "       MalicAcid_atipico  Ash_atipico  ...  ColorIntensity_atipico  Hue_atipico\n",
       "Class                                  ...                                     \n",
       "1                      0            1  ...                       0            0\n",
       "2                      1            2  ...                       0            1\n",
       "3                      2            0  ...                       4            0\n",
       "\n",
       "[3 rows x 7 columns]"
      ]
     },
     "execution_count": 16,
     "metadata": {},
     "output_type": "execute_result"
    }
   ],
   "source": [
    "# Agrupar y sumar las columnas especificadas por la clase\n",
    "# Utilizamos una lista de las columnas de interés para mayor claridad\n",
    "columns_of_interest = [\n",
    "    \"MalicAcid_atipico\", \"Ash_atipico\", \"AlcalinityofAsh_atipico\",\n",
    "    \"Magnesium_atipico\", \"Proanthocyanins_atipico\",\n",
    "    \"ColorIntensity_atipico\", \"Hue_atipico\"\n",
    "]\n",
    "\n",
    "# Agrupamos por la columna 'Class' y sumamos las columnas de interés\n",
    "grouped_data = DataNew[columns_of_interest].groupby(DataNew[\"Class\"]).sum()\n",
    "\n",
    "# Mostrar el resultado\n",
    "grouped_data"
   ]
  },
  {
   "cell_type": "markdown",
   "metadata": {
    "application/vnd.databricks.v1+cell": {
     "cellMetadata": {
      "byteLimit": 2048000,
      "rowLimit": 10000
     },
     "inputWidgets": {},
     "nuid": "c5511c61-823b-4784-ae56-eb5a18dc8d1f",
     "showTitle": false,
     "title": ""
    }
   },
   "source": [
    "El análisis de los datos atípicos en función de la variable objetivo Class revela que las variables AlcalinityofAsh_atipico, Magnesium_atipico y ColorIntensity_atipico presentan el mayor número de valores atípicos. Esta casuística nos permite identificar y visualizar las mejores estrategias para el tratamiento de estos datos atípicos. El enfoque casuístico nos permite analizar estos casos específicos y determinar las técnicas más adecuadas para manejar los datos atípicos, ya sea mediante su transformación, imputación o exclusión, con el fin de mejorar la precisión y robustez de nuestros modelos predictivos."
   ]
  },
  {
   "cell_type": "markdown",
   "metadata": {
    "application/vnd.databricks.v1+cell": {
     "cellMetadata": {
      "byteLimit": 2048000,
      "rowLimit": 10000
     },
     "inputWidgets": {},
     "nuid": "f04da80f-afaa-4cbe-88ea-93f3c80c7813",
     "showTitle": false,
     "title": ""
    }
   },
   "source": [
    "### Remplazar los datos atipicos "
   ]
  },
  {
   "cell_type": "code",
   "execution_count": 0,
   "metadata": {
    "application/vnd.databricks.v1+cell": {
     "cellMetadata": {
      "byteLimit": 2048000,
      "rowLimit": 10000
     },
     "inputWidgets": {},
     "nuid": "21f623de-5603-447a-8894-5a7cbcbd48d8",
     "showTitle": false,
     "title": ""
    }
   },
   "outputs": [
    {
     "output_type": "execute_result",
     "data": {
      "text/html": [
       "<div>\n",
       "<style scoped>\n",
       "    .dataframe tbody tr th:only-of-type {\n",
       "        vertical-align: middle;\n",
       "    }\n",
       "\n",
       "    .dataframe tbody tr th {\n",
       "        vertical-align: top;\n",
       "    }\n",
       "\n",
       "    .dataframe thead th {\n",
       "        text-align: right;\n",
       "    }\n",
       "</style>\n",
       "<table border=\"1\" class=\"dataframe\">\n",
       "  <thead>\n",
       "    <tr style=\"text-align: right;\">\n",
       "      <th></th>\n",
       "      <th>Class</th>\n",
       "      <th>Alcohol</th>\n",
       "      <th>Malic Acid</th>\n",
       "      <th>Ash</th>\n",
       "      <th>Alcalinity of Ash</th>\n",
       "      <th>Magnesium</th>\n",
       "      <th>Total Phenols</th>\n",
       "      <th>Flavanoids</th>\n",
       "      <th>Nonflavanoid Phenols</th>\n",
       "      <th>Proanthocyanins</th>\n",
       "      <th>Color Intensity</th>\n",
       "      <th>Hue</th>\n",
       "      <th>Diluted Wines</th>\n",
       "      <th>Proline</th>\n",
       "      <th>MalicAcid_atipico</th>\n",
       "      <th>Ash_atipico</th>\n",
       "      <th>AlcalinityofAsh_atipico</th>\n",
       "      <th>Magnesium_atipico</th>\n",
       "      <th>Proanthocyanins_atipico</th>\n",
       "      <th>ColorIntensity_atipico</th>\n",
       "      <th>Hue_atipico</th>\n",
       "    </tr>\n",
       "  </thead>\n",
       "  <tbody>\n",
       "    <tr>\n",
       "      <th>0</th>\n",
       "      <td>1</td>\n",
       "      <td>14.23</td>\n",
       "      <td>1.710000</td>\n",
       "      <td>2.43</td>\n",
       "      <td>15.6</td>\n",
       "      <td>127.0</td>\n",
       "      <td>2.80</td>\n",
       "      <td>3.06</td>\n",
       "      <td>0.28</td>\n",
       "      <td>2.29</td>\n",
       "      <td>5.64</td>\n",
       "      <td>1.04</td>\n",
       "      <td>3.92</td>\n",
       "      <td>1065</td>\n",
       "      <td>0</td>\n",
       "      <td>0</td>\n",
       "      <td>0</td>\n",
       "      <td>0</td>\n",
       "      <td>0</td>\n",
       "      <td>0</td>\n",
       "      <td>0</td>\n",
       "    </tr>\n",
       "    <tr>\n",
       "      <th>1</th>\n",
       "      <td>1</td>\n",
       "      <td>13.20</td>\n",
       "      <td>1.780000</td>\n",
       "      <td>2.14</td>\n",
       "      <td>11.2</td>\n",
       "      <td>100.0</td>\n",
       "      <td>2.65</td>\n",
       "      <td>2.76</td>\n",
       "      <td>0.26</td>\n",
       "      <td>1.28</td>\n",
       "      <td>4.38</td>\n",
       "      <td>1.05</td>\n",
       "      <td>3.40</td>\n",
       "      <td>1050</td>\n",
       "      <td>0</td>\n",
       "      <td>0</td>\n",
       "      <td>0</td>\n",
       "      <td>0</td>\n",
       "      <td>0</td>\n",
       "      <td>0</td>\n",
       "      <td>0</td>\n",
       "    </tr>\n",
       "    <tr>\n",
       "      <th>2</th>\n",
       "      <td>1</td>\n",
       "      <td>13.16</td>\n",
       "      <td>2.360000</td>\n",
       "      <td>2.67</td>\n",
       "      <td>18.6</td>\n",
       "      <td>101.0</td>\n",
       "      <td>2.80</td>\n",
       "      <td>3.24</td>\n",
       "      <td>0.30</td>\n",
       "      <td>2.81</td>\n",
       "      <td>5.68</td>\n",
       "      <td>1.03</td>\n",
       "      <td>3.17</td>\n",
       "      <td>1185</td>\n",
       "      <td>0</td>\n",
       "      <td>0</td>\n",
       "      <td>0</td>\n",
       "      <td>0</td>\n",
       "      <td>0</td>\n",
       "      <td>0</td>\n",
       "      <td>0</td>\n",
       "    </tr>\n",
       "    <tr>\n",
       "      <th>3</th>\n",
       "      <td>1</td>\n",
       "      <td>14.37</td>\n",
       "      <td>1.950000</td>\n",
       "      <td>2.50</td>\n",
       "      <td>16.8</td>\n",
       "      <td>113.0</td>\n",
       "      <td>3.85</td>\n",
       "      <td>3.49</td>\n",
       "      <td>0.24</td>\n",
       "      <td>2.18</td>\n",
       "      <td>7.80</td>\n",
       "      <td>0.86</td>\n",
       "      <td>3.45</td>\n",
       "      <td>1480</td>\n",
       "      <td>0</td>\n",
       "      <td>0</td>\n",
       "      <td>0</td>\n",
       "      <td>0</td>\n",
       "      <td>0</td>\n",
       "      <td>0</td>\n",
       "      <td>0</td>\n",
       "    </tr>\n",
       "    <tr>\n",
       "      <th>4</th>\n",
       "      <td>1</td>\n",
       "      <td>13.24</td>\n",
       "      <td>2.590000</td>\n",
       "      <td>2.87</td>\n",
       "      <td>21.0</td>\n",
       "      <td>118.0</td>\n",
       "      <td>2.80</td>\n",
       "      <td>2.69</td>\n",
       "      <td>0.39</td>\n",
       "      <td>1.82</td>\n",
       "      <td>4.32</td>\n",
       "      <td>1.04</td>\n",
       "      <td>2.93</td>\n",
       "      <td>735</td>\n",
       "      <td>0</td>\n",
       "      <td>0</td>\n",
       "      <td>0</td>\n",
       "      <td>0</td>\n",
       "      <td>0</td>\n",
       "      <td>0</td>\n",
       "      <td>0</td>\n",
       "    </tr>\n",
       "    <tr>\n",
       "      <th>...</th>\n",
       "      <td>...</td>\n",
       "      <td>...</td>\n",
       "      <td>...</td>\n",
       "      <td>...</td>\n",
       "      <td>...</td>\n",
       "      <td>...</td>\n",
       "      <td>...</td>\n",
       "      <td>...</td>\n",
       "      <td>...</td>\n",
       "      <td>...</td>\n",
       "      <td>...</td>\n",
       "      <td>...</td>\n",
       "      <td>...</td>\n",
       "      <td>...</td>\n",
       "      <td>...</td>\n",
       "      <td>...</td>\n",
       "      <td>...</td>\n",
       "      <td>...</td>\n",
       "      <td>...</td>\n",
       "      <td>...</td>\n",
       "      <td>...</td>\n",
       "    </tr>\n",
       "    <tr>\n",
       "      <th>173</th>\n",
       "      <td>3</td>\n",
       "      <td>13.71</td>\n",
       "      <td>2.336348</td>\n",
       "      <td>2.45</td>\n",
       "      <td>20.5</td>\n",
       "      <td>95.0</td>\n",
       "      <td>1.68</td>\n",
       "      <td>0.61</td>\n",
       "      <td>0.52</td>\n",
       "      <td>1.06</td>\n",
       "      <td>7.70</td>\n",
       "      <td>0.64</td>\n",
       "      <td>1.74</td>\n",
       "      <td>740</td>\n",
       "      <td>1</td>\n",
       "      <td>0</td>\n",
       "      <td>0</td>\n",
       "      <td>0</td>\n",
       "      <td>0</td>\n",
       "      <td>0</td>\n",
       "      <td>0</td>\n",
       "    </tr>\n",
       "    <tr>\n",
       "      <th>174</th>\n",
       "      <td>3</td>\n",
       "      <td>13.40</td>\n",
       "      <td>3.910000</td>\n",
       "      <td>2.48</td>\n",
       "      <td>23.0</td>\n",
       "      <td>102.0</td>\n",
       "      <td>1.80</td>\n",
       "      <td>0.75</td>\n",
       "      <td>0.43</td>\n",
       "      <td>1.41</td>\n",
       "      <td>7.30</td>\n",
       "      <td>0.70</td>\n",
       "      <td>1.56</td>\n",
       "      <td>750</td>\n",
       "      <td>0</td>\n",
       "      <td>0</td>\n",
       "      <td>0</td>\n",
       "      <td>0</td>\n",
       "      <td>0</td>\n",
       "      <td>0</td>\n",
       "      <td>0</td>\n",
       "    </tr>\n",
       "    <tr>\n",
       "      <th>175</th>\n",
       "      <td>3</td>\n",
       "      <td>13.27</td>\n",
       "      <td>4.280000</td>\n",
       "      <td>2.26</td>\n",
       "      <td>20.0</td>\n",
       "      <td>120.0</td>\n",
       "      <td>1.59</td>\n",
       "      <td>0.69</td>\n",
       "      <td>0.43</td>\n",
       "      <td>1.35</td>\n",
       "      <td>10.20</td>\n",
       "      <td>0.59</td>\n",
       "      <td>1.56</td>\n",
       "      <td>835</td>\n",
       "      <td>0</td>\n",
       "      <td>0</td>\n",
       "      <td>0</td>\n",
       "      <td>0</td>\n",
       "      <td>0</td>\n",
       "      <td>0</td>\n",
       "      <td>0</td>\n",
       "    </tr>\n",
       "    <tr>\n",
       "      <th>176</th>\n",
       "      <td>3</td>\n",
       "      <td>13.17</td>\n",
       "      <td>2.590000</td>\n",
       "      <td>2.37</td>\n",
       "      <td>20.0</td>\n",
       "      <td>120.0</td>\n",
       "      <td>1.65</td>\n",
       "      <td>0.68</td>\n",
       "      <td>0.53</td>\n",
       "      <td>1.46</td>\n",
       "      <td>9.30</td>\n",
       "      <td>0.60</td>\n",
       "      <td>1.62</td>\n",
       "      <td>840</td>\n",
       "      <td>0</td>\n",
       "      <td>0</td>\n",
       "      <td>0</td>\n",
       "      <td>0</td>\n",
       "      <td>0</td>\n",
       "      <td>0</td>\n",
       "      <td>0</td>\n",
       "    </tr>\n",
       "    <tr>\n",
       "      <th>177</th>\n",
       "      <td>3</td>\n",
       "      <td>14.13</td>\n",
       "      <td>4.100000</td>\n",
       "      <td>2.74</td>\n",
       "      <td>24.5</td>\n",
       "      <td>96.0</td>\n",
       "      <td>2.05</td>\n",
       "      <td>0.76</td>\n",
       "      <td>0.56</td>\n",
       "      <td>1.35</td>\n",
       "      <td>9.20</td>\n",
       "      <td>0.61</td>\n",
       "      <td>1.60</td>\n",
       "      <td>560</td>\n",
       "      <td>0</td>\n",
       "      <td>0</td>\n",
       "      <td>0</td>\n",
       "      <td>0</td>\n",
       "      <td>0</td>\n",
       "      <td>0</td>\n",
       "      <td>0</td>\n",
       "    </tr>\n",
       "  </tbody>\n",
       "</table>\n",
       "<p>178 rows × 21 columns</p>\n",
       "</div>"
      ],
      "text/plain": [
       "     Class  Alcohol  ...  ColorIntensity_atipico  Hue_atipico\n",
       "0        1    14.23  ...                       0            0\n",
       "1        1    13.20  ...                       0            0\n",
       "2        1    13.16  ...                       0            0\n",
       "3        1    14.37  ...                       0            0\n",
       "4        1    13.24  ...                       0            0\n",
       "..     ...      ...  ...                     ...          ...\n",
       "173      3    13.71  ...                       0            0\n",
       "174      3    13.40  ...                       0            0\n",
       "175      3    13.27  ...                       0            0\n",
       "176      3    13.17  ...                       0            0\n",
       "177      3    14.13  ...                       0            0\n",
       "\n",
       "[178 rows x 21 columns]"
      ]
     },
     "execution_count": 17,
     "metadata": {},
     "output_type": "execute_result"
    }
   ],
   "source": [
    "# Lista de columnas a procesar\n",
    "columns_to_process = [\n",
    "    'Malic Acid', 'Ash', 'Alcalinity of Ash', 'Magnesium', \n",
    "    'Proanthocyanins', 'Color Intensity', 'Hue'\n",
    "]\n",
    "\n",
    "def replace_outliers_with_mean(df, column):\n",
    "    \"\"\"\n",
    "    Identifica y reemplaza los valores atípicos en una columna por la media de la columna.\n",
    "    \n",
    "    Parámetros:\n",
    "    df (DataFrame): El DataFrame que contiene los datos.\n",
    "    column (str): El nombre de la columna a procesar.\n",
    "    \"\"\"\n",
    "    Q1 = df[column].quantile(0.25)\n",
    "    Q3 = df[column].quantile(0.75)\n",
    "    IQR = Q3 - Q1\n",
    "    lower_bound = Q1 - 1.5 * IQR\n",
    "    upper_bound = Q3 + 1.5 * IQR\n",
    "    \n",
    "    # Calcular la media de la columna\n",
    "    mean_value = df[column].mean()\n",
    "    \n",
    "    # Reemplazar valores atípicos por la media\n",
    "    df[column] = np.where((df[column] < lower_bound) | (df[column] > upper_bound), mean_value, df[column])\n",
    "\n",
    "# Aplicar la función a cada columna\n",
    "for column in columns_to_process:\n",
    "    replace_outliers_with_mean(DataNew, column)\n",
    "\n",
    "# Mostrar el DataFrame actualizado\n",
    "DataNew\n"
   ]
  },
  {
   "cell_type": "markdown",
   "metadata": {
    "application/vnd.databricks.v1+cell": {
     "cellMetadata": {
      "byteLimit": 2048000,
      "rowLimit": 10000
     },
     "inputWidgets": {},
     "nuid": "d2261221-c411-4110-9d18-e0602dd037b1",
     "showTitle": false,
     "title": ""
    }
   },
   "source": [
    "Los datos identificados como atípicos han sido reemplazados por la media de sus respectivas variables. Este enfoque se utiliza para mitigar el impacto de los valores extremos y asegurar que los datos sean más representativos del conjunto general. A continuación, se detalla el proceso y la justificación de esta técnica:\n",
    "\n",
    "* Identificación de Datos Atípicos: Se realizó un análisis exhaustivo para identificar los valores atípicos en las variables AlcalinityofAsh, Magnesium y ColorIntensity. Estos valores fueron detectados utilizando métodos estadísticos como el rango intercuartílico (IQR) y los diagramas de cajas.\n",
    "\n",
    "* Reemplazo por la Media: Una vez identificados los datos atípicos, se procedió a reemplazarlos por la media aritmética de cada variable. Este método es preferido en situaciones donde se desea mantener la integridad del conjunto de datos sin eliminar observaciones, especialmente cuando se dispone de un número limitado de datos.\n",
    "\n",
    "* Justificación del Método:\n",
    "Reducción de Sesgo: Reemplazar los valores atípicos por la media ayuda a reducir el sesgo que estos valores extremos pueden introducir en los análisis posteriores. "
   ]
  },
  {
   "cell_type": "markdown",
   "metadata": {
    "application/vnd.databricks.v1+cell": {
     "cellMetadata": {
      "byteLimit": 2048000,
      "rowLimit": 10000
     },
     "inputWidgets": {},
     "nuid": "d19113d9-cc11-4c72-8f18-bc886330e058",
     "showTitle": false,
     "title": ""
    }
   },
   "source": [
    "### Seleccionar las variables adecuadas para entrenar el modelo"
   ]
  },
  {
   "cell_type": "code",
   "execution_count": 0,
   "metadata": {
    "application/vnd.databricks.v1+cell": {
     "cellMetadata": {
      "byteLimit": 2048000,
      "rowLimit": 10000
     },
     "inputWidgets": {},
     "nuid": "d11033db-b03e-4249-b1fb-b067b684e9f7",
     "showTitle": false,
     "title": ""
    }
   },
   "outputs": [
    {
     "output_type": "stream",
     "name": "stdout",
     "output_type": "stream",
     "text": [
      "   Class  Alcohol  Malic Acid  ...   Hue  Diluted Wines  Proline\n0      1    14.23        1.71  ...  1.04           3.92     1065\n1      1    13.20        1.78  ...  1.05           3.40     1050\n2      1    13.16        2.36  ...  1.03           3.17     1185\n3      1    14.37        1.95  ...  0.86           3.45     1480\n4      1    13.24        2.59  ...  1.04           2.93      735\n\n[5 rows x 14 columns]\n"
     ]
    }
   ],
   "source": [
    "# Selección de columnas específicas del DataFrame 'DataNew'\n",
    "MLNew = DataNew[\n",
    "    [\n",
    "        'Class', 'Alcohol', 'Malic Acid', 'Ash', 'Alcalinity of Ash',\n",
    "        'Magnesium', 'Total Phenols', 'Flavanoids', 'Nonflavanoid Phenols',\n",
    "        'Proanthocyanins', 'Color Intensity', 'Hue', 'Diluted Wines', 'Proline'\n",
    "    ]\n",
    "]\n",
    "\n",
    "# Mostrar las primeras filas del nuevo DataFrame para verificación\n",
    "print(MLNew.head())"
   ]
  },
  {
   "cell_type": "markdown",
   "metadata": {
    "application/vnd.databricks.v1+cell": {
     "cellMetadata": {
      "byteLimit": 2048000,
      "rowLimit": 10000
     },
     "inputWidgets": {},
     "nuid": "656b5f1d-2897-462f-b94d-efb47c4246fc",
     "showTitle": false,
     "title": ""
    }
   },
   "source": [
    "### Matriz de correlación"
   ]
  },
  {
   "cell_type": "markdown",
   "metadata": {
    "application/vnd.databricks.v1+cell": {
     "cellMetadata": {
      "byteLimit": 2048000,
      "rowLimit": 10000
     },
     "inputWidgets": {},
     "nuid": "9e2cd47d-eb0f-4335-b78f-eb81f7fafce9",
     "showTitle": false,
     "title": ""
    }
   },
   "source": [
    "La matriz de correlación presentada es una herramienta visual que muestra la relación lineal entre diferentes variables relacionadas con las características del vino. Cada celda de la matriz contiene un coeficiente de correlación que varía entre -1 y 1. Estos coeficientes indican la fuerza y la dirección de la relación entre dos variables:\n",
    "\n",
    "* 1 indica una correlación positiva perfecta, donde un aumento en una variable está asociado con un aumento proporcional en la otra.\n",
    "* -1 indica una correlación negativa perfecta, donde un aumento en una variable está asociado con una disminución proporcional en la otra.\n",
    "* 0 indica que no hay correlación lineal entre las variables."
   ]
  },
  {
   "cell_type": "code",
   "execution_count": 0,
   "metadata": {
    "application/vnd.databricks.v1+cell": {
     "cellMetadata": {
      "byteLimit": 2048000,
      "rowLimit": 10000
     },
     "inputWidgets": {},
     "nuid": "c415c5a1-8d4c-462a-8bd4-b5b9a6c82fd4",
     "showTitle": false,
     "title": ""
    }
   },
   "outputs": [
    {
     "output_type": "display_data",
     "data": {
      "image/png": "[encoded data removed]",
      "text/plain": [
       "<Figure size 1000x800 with 2 Axes>"
      ]
     },
     "metadata": {},
     "output_type": "display_data"
    }
   ],
   "source": [
    "# Seleccionar solo las columnas numéricas del DataFrame\n",
    "numerical_columns = MLNew.select_dtypes(include=[np.number])\n",
    "\n",
    "# Calcular la matriz de correlación\n",
    "correlation_matrix = numerical_columns.corr()\n",
    "\n",
    "# Configurar el tamaño de la figura para el heatmap\n",
    "plt.figure(figsize=(10, 8))\n",
    "\n",
    "# Graficar la matriz de correlación usando seaborn\n",
    "sns.heatmap(correlation_matrix, annot=True, cmap='coolwarm', fmt='.2f')\n",
    "\n",
    "# Mostrar el gráfico\n",
    "plt.show()\n"
   ]
  },
  {
   "cell_type": "markdown",
   "metadata": {
    "application/vnd.databricks.v1+cell": {
     "cellMetadata": {
      "byteLimit": 2048000,
      "rowLimit": 10000
     },
     "inputWidgets": {},
     "nuid": "09f48c11-13e1-44ed-a92f-4a3f17d40f23",
     "showTitle": false,
     "title": ""
    }
   },
   "source": [
    "En la matriz de correlación se observa que las variables Flavanoids y Total Phenols presentan una correlación del 86%. Según la teoría, cuando la correlación entre dos variables supera el 84%, es recomendable eliminar una de ellas para evitar ruido y resultados falsos. Esto se debe a que una alta correlación puede indicar multicolinealidad, lo que puede distorsionar los análisis estadísticos y los modelos predictivos.\n",
    "\n",
    "Por lo tanto, se sugiere eliminar una de estas dos variables para mejorar la precisión y la validez de los resultados. La elección de cuál variable eliminar puede depender de otros factores, como su relevancia en el contexto del estudio o su impacto en otros análisis."
   ]
  },
  {
   "cell_type": "markdown",
   "metadata": {
    "application/vnd.databricks.v1+cell": {
     "cellMetadata": {
      "byteLimit": 2048000,
      "rowLimit": 10000
     },
     "inputWidgets": {},
     "nuid": "aa568904-508a-478f-9013-ebb80a087ca9",
     "showTitle": false,
     "title": ""
    }
   },
   "source": [
    "### Eliminar variable con alta correlación"
   ]
  },
  {
   "cell_type": "code",
   "execution_count": 0,
   "metadata": {
    "application/vnd.databricks.v1+cell": {
     "cellMetadata": {
      "byteLimit": 2048000,
      "rowLimit": 10000
     },
     "inputWidgets": {},
     "nuid": "bba367ad-99d4-4d6f-af8c-1890301dc844",
     "showTitle": false,
     "title": ""
    }
   },
   "outputs": [
    {
     "output_type": "execute_result",
     "data": {
      "text/html": [
       "<div>\n",
       "<style scoped>\n",
       "    .dataframe tbody tr th:only-of-type {\n",
       "        vertical-align: middle;\n",
       "    }\n",
       "\n",
       "    .dataframe tbody tr th {\n",
       "        vertical-align: top;\n",
       "    }\n",
       "\n",
       "    .dataframe thead th {\n",
       "        text-align: right;\n",
       "    }\n",
       "</style>\n",
       "<table border=\"1\" class=\"dataframe\">\n",
       "  <thead>\n",
       "    <tr style=\"text-align: right;\">\n",
       "      <th></th>\n",
       "      <th>Class</th>\n",
       "      <th>Alcohol</th>\n",
       "      <th>Malic Acid</th>\n",
       "      <th>Ash</th>\n",
       "      <th>Alcalinity of Ash</th>\n",
       "      <th>Magnesium</th>\n",
       "      <th>Total Phenols</th>\n",
       "      <th>Nonflavanoid Phenols</th>\n",
       "      <th>Proanthocyanins</th>\n",
       "      <th>Color Intensity</th>\n",
       "      <th>Hue</th>\n",
       "      <th>Diluted Wines</th>\n",
       "      <th>Proline</th>\n",
       "    </tr>\n",
       "  </thead>\n",
       "  <tbody>\n",
       "    <tr>\n",
       "      <th>0</th>\n",
       "      <td>1</td>\n",
       "      <td>14.23</td>\n",
       "      <td>1.710000</td>\n",
       "      <td>2.43</td>\n",
       "      <td>15.6</td>\n",
       "      <td>127.0</td>\n",
       "      <td>2.80</td>\n",
       "      <td>0.28</td>\n",
       "      <td>2.29</td>\n",
       "      <td>5.64</td>\n",
       "      <td>1.04</td>\n",
       "      <td>3.92</td>\n",
       "      <td>1065</td>\n",
       "    </tr>\n",
       "    <tr>\n",
       "      <th>1</th>\n",
       "      <td>1</td>\n",
       "      <td>13.20</td>\n",
       "      <td>1.780000</td>\n",
       "      <td>2.14</td>\n",
       "      <td>11.2</td>\n",
       "      <td>100.0</td>\n",
       "      <td>2.65</td>\n",
       "      <td>0.26</td>\n",
       "      <td>1.28</td>\n",
       "      <td>4.38</td>\n",
       "      <td>1.05</td>\n",
       "      <td>3.40</td>\n",
       "      <td>1050</td>\n",
       "    </tr>\n",
       "    <tr>\n",
       "      <th>2</th>\n",
       "      <td>1</td>\n",
       "      <td>13.16</td>\n",
       "      <td>2.360000</td>\n",
       "      <td>2.67</td>\n",
       "      <td>18.6</td>\n",
       "      <td>101.0</td>\n",
       "      <td>2.80</td>\n",
       "      <td>0.30</td>\n",
       "      <td>2.81</td>\n",
       "      <td>5.68</td>\n",
       "      <td>1.03</td>\n",
       "      <td>3.17</td>\n",
       "      <td>1185</td>\n",
       "    </tr>\n",
       "    <tr>\n",
       "      <th>3</th>\n",
       "      <td>1</td>\n",
       "      <td>14.37</td>\n",
       "      <td>1.950000</td>\n",
       "      <td>2.50</td>\n",
       "      <td>16.8</td>\n",
       "      <td>113.0</td>\n",
       "      <td>3.85</td>\n",
       "      <td>0.24</td>\n",
       "      <td>2.18</td>\n",
       "      <td>7.80</td>\n",
       "      <td>0.86</td>\n",
       "      <td>3.45</td>\n",
       "      <td>1480</td>\n",
       "    </tr>\n",
       "    <tr>\n",
       "      <th>4</th>\n",
       "      <td>1</td>\n",
       "      <td>13.24</td>\n",
       "      <td>2.590000</td>\n",
       "      <td>2.87</td>\n",
       "      <td>21.0</td>\n",
       "      <td>118.0</td>\n",
       "      <td>2.80</td>\n",
       "      <td>0.39</td>\n",
       "      <td>1.82</td>\n",
       "      <td>4.32</td>\n",
       "      <td>1.04</td>\n",
       "      <td>2.93</td>\n",
       "      <td>735</td>\n",
       "    </tr>\n",
       "    <tr>\n",
       "      <th>...</th>\n",
       "      <td>...</td>\n",
       "      <td>...</td>\n",
       "      <td>...</td>\n",
       "      <td>...</td>\n",
       "      <td>...</td>\n",
       "      <td>...</td>\n",
       "      <td>...</td>\n",
       "      <td>...</td>\n",
       "      <td>...</td>\n",
       "      <td>...</td>\n",
       "      <td>...</td>\n",
       "      <td>...</td>\n",
       "      <td>...</td>\n",
       "    </tr>\n",
       "    <tr>\n",
       "      <th>173</th>\n",
       "      <td>3</td>\n",
       "      <td>13.71</td>\n",
       "      <td>2.336348</td>\n",
       "      <td>2.45</td>\n",
       "      <td>20.5</td>\n",
       "      <td>95.0</td>\n",
       "      <td>1.68</td>\n",
       "      <td>0.52</td>\n",
       "      <td>1.06</td>\n",
       "      <td>7.70</td>\n",
       "      <td>0.64</td>\n",
       "      <td>1.74</td>\n",
       "      <td>740</td>\n",
       "    </tr>\n",
       "    <tr>\n",
       "      <th>174</th>\n",
       "      <td>3</td>\n",
       "      <td>13.40</td>\n",
       "      <td>3.910000</td>\n",
       "      <td>2.48</td>\n",
       "      <td>23.0</td>\n",
       "      <td>102.0</td>\n",
       "      <td>1.80</td>\n",
       "      <td>0.43</td>\n",
       "      <td>1.41</td>\n",
       "      <td>7.30</td>\n",
       "      <td>0.70</td>\n",
       "      <td>1.56</td>\n",
       "      <td>750</td>\n",
       "    </tr>\n",
       "    <tr>\n",
       "      <th>175</th>\n",
       "      <td>3</td>\n",
       "      <td>13.27</td>\n",
       "      <td>4.280000</td>\n",
       "      <td>2.26</td>\n",
       "      <td>20.0</td>\n",
       "      <td>120.0</td>\n",
       "      <td>1.59</td>\n",
       "      <td>0.43</td>\n",
       "      <td>1.35</td>\n",
       "      <td>10.20</td>\n",
       "      <td>0.59</td>\n",
       "      <td>1.56</td>\n",
       "      <td>835</td>\n",
       "    </tr>\n",
       "    <tr>\n",
       "      <th>176</th>\n",
       "      <td>3</td>\n",
       "      <td>13.17</td>\n",
       "      <td>2.590000</td>\n",
       "      <td>2.37</td>\n",
       "      <td>20.0</td>\n",
       "      <td>120.0</td>\n",
       "      <td>1.65</td>\n",
       "      <td>0.53</td>\n",
       "      <td>1.46</td>\n",
       "      <td>9.30</td>\n",
       "      <td>0.60</td>\n",
       "      <td>1.62</td>\n",
       "      <td>840</td>\n",
       "    </tr>\n",
       "    <tr>\n",
       "      <th>177</th>\n",
       "      <td>3</td>\n",
       "      <td>14.13</td>\n",
       "      <td>4.100000</td>\n",
       "      <td>2.74</td>\n",
       "      <td>24.5</td>\n",
       "      <td>96.0</td>\n",
       "      <td>2.05</td>\n",
       "      <td>0.56</td>\n",
       "      <td>1.35</td>\n",
       "      <td>9.20</td>\n",
       "      <td>0.61</td>\n",
       "      <td>1.60</td>\n",
       "      <td>560</td>\n",
       "    </tr>\n",
       "  </tbody>\n",
       "</table>\n",
       "<p>178 rows × 13 columns</p>\n",
       "</div>"
      ],
      "text/plain": [
       "     Class  Alcohol  Malic Acid  ...   Hue  Diluted Wines  Proline\n",
       "0        1    14.23    1.710000  ...  1.04           3.92     1065\n",
       "1        1    13.20    1.780000  ...  1.05           3.40     1050\n",
       "2        1    13.16    2.360000  ...  1.03           3.17     1185\n",
       "3        1    14.37    1.950000  ...  0.86           3.45     1480\n",
       "4        1    13.24    2.590000  ...  1.04           2.93      735\n",
       "..     ...      ...         ...  ...   ...            ...      ...\n",
       "173      3    13.71    2.336348  ...  0.64           1.74      740\n",
       "174      3    13.40    3.910000  ...  0.70           1.56      750\n",
       "175      3    13.27    4.280000  ...  0.59           1.56      835\n",
       "176      3    13.17    2.590000  ...  0.60           1.62      840\n",
       "177      3    14.13    4.100000  ...  0.61           1.60      560\n",
       "\n",
       "[178 rows x 13 columns]"
      ]
     },
     "execution_count": 20,
     "metadata": {},
     "output_type": "execute_result"
    }
   ],
   "source": [
    "# Eliminar la columna 'Flavanoids' del DataFrame 'DataNew'\n",
    "# y asignar el resultado a 'DataModel'\n",
    "DataModel = MLNew.drop(['Flavanoids'], axis=1)\n",
    "\n",
    "# Mostrar el DataFrame resultante\n",
    "DataModel"
   ]
  },
  {
   "cell_type": "markdown",
   "metadata": {
    "application/vnd.databricks.v1+cell": {
     "cellMetadata": {},
     "inputWidgets": {},
     "nuid": "4b0dad0b-a258-4d31-873f-294612d35423",
     "showTitle": false,
     "title": ""
    }
   },
   "source": [
    "### Comportamiento de la clase objetivo"
   ]
  },
  {
   "cell_type": "code",
   "execution_count": 0,
   "metadata": {
    "application/vnd.databricks.v1+cell": {
     "cellMetadata": {
      "byteLimit": 2048000,
      "rowLimit": 10000
     },
     "inputWidgets": {},
     "nuid": "fcdfbe9d-d329-48e3-bdcf-fcd1314f191c",
     "showTitle": false,
     "title": ""
    }
   },
   "outputs": [
    {
     "output_type": "execute_result",
     "data": {
      "text/plain": [
       "2    71\n",
       "1    59\n",
       "3    48\n",
       "Name: Class, dtype: int64"
      ]
     },
     "execution_count": 22,
     "metadata": {},
     "output_type": "execute_result"
    }
   ],
   "source": [
    "# Contar la cantidad de ocurrencias de cada clase en la columna 'Class' del DataFrame 'MLNew'\n",
    "class_counts = MLNew['Class'].value_counts()\n",
    "\n",
    "class_counts"
   ]
  },
  {
   "cell_type": "markdown",
   "metadata": {
    "application/vnd.databricks.v1+cell": {
     "cellMetadata": {},
     "inputWidgets": {},
     "nuid": "ed31d866-3017-4982-ad7d-20d5c57759a5",
     "showTitle": false,
     "title": ""
    }
   },
   "source": [
    "Se puede identificar que la clase 1 tiene 59 datos, la clase 2 tiene 71 datos y la clase 3 tiene 48 datos"
   ]
  },
  {
   "cell_type": "markdown",
   "metadata": {
    "application/vnd.databricks.v1+cell": {
     "cellMetadata": {},
     "inputWidgets": {},
     "nuid": "e3be46ce-9e88-42a8-a3ad-b803ef711ed8",
     "showTitle": false,
     "title": ""
    }
   },
   "source": [
    "###Entrenamiento de los modelos"
   ]
  },
  {
   "cell_type": "markdown",
   "metadata": {
    "application/vnd.databricks.v1+cell": {
     "cellMetadata": {},
     "inputWidgets": {},
     "nuid": "f32bda49-e114-46c4-a400-d787ce92656d",
     "showTitle": false,
     "title": ""
    }
   },
   "source": [
    "* **GradientBoostingClassifier:**\n",
    "\n",
    "* Robustez y precisión: Este modelo es conocido por su capacidad para manejar datos complejos y proporcionar predicciones precisas. Utiliza un enfoque de boosting, donde se combinan múltiples árboles de decisión débiles para formar un modelo fuerte.\n",
    "\n",
    "* Manejo de clases múltiples: Gradient Boosting puede manejar problemas de clasificación multiclase de manera efectiva, ajustando los modelos para minimizar el error en cada iteración.\n",
    "\n",
    "* Control de sobreajuste: Ofrece parámetros como la tasa de aprendizaje y la profundidad máxima de los árboles, que ayudan a controlar el sobreajuste y mejorar la generalización del modelo.\n",
    "\n",
    "* Eficiencia con datos pequeños: Gradient Boosting puede ser muy efectivo incluso con conjuntos de datos pequeños, ya que cada árbol se construye para corregir los errores de los anteriores, aprovechando al máximo la información disponible.\n",
    "\n",
    "* **SVC (Support Vector Classifier):**\n",
    "\n",
    "* Eficiencia en espacios de alta dimensión: SVC es muy eficaz en espacios de alta dimensión y es útil cuando el número de dimensiones es mayor que el número de muestras.\n",
    "\n",
    "* Versatilidad con kernels: Permite el uso de diferentes funciones kernel (lineal, polinómico, RBF, etc.), lo que proporciona flexibilidad para capturar relaciones no lineales en los datos.\n",
    "\n",
    "* Margen máximo: SVC busca el hiperplano que maximiza el margen entre las clases, lo que puede resultar en una mejor separación y clasificación de las clases.\n",
    "\n",
    "* Rendimiento con datos limitados: SVC es conocido por su buen rendimiento incluso con conjuntos de datos pequeños, ya que se enfoca en encontrar los vectores de soporte que definen los límites de decisión.\n",
    "\n",
    "* **XGBoost:**\n",
    "\n",
    "* Rendimiento y velocidad: XGBoost es conocido por su alta eficiencia y velocidad de entrenamiento, aprovechando optimizaciones como el procesamiento paralelo.\n",
    "\n",
    "* Regularización: Incluye técnicas de regularización (L1 y L2) que ayudan a prevenir el sobreajuste, mejorando la capacidad de generalización del modelo.\n",
    "\n",
    "* Manejo de datos faltantes: XGBoost maneja de manera efectiva los valores faltantes, lo que puede ser crucial en conjuntos de datos del mundo real.\n",
    "\n",
    "* Eficiencia con datos pequeños: XGBoost puede ser muy efectivo con conjuntos de datos pequeños debido a su capacidad para ajustar modelos de manera precisa y su enfoque en la optimización del rendimiento.\n",
    "\n",
    "Estos modelos fueron seleccionados debido a sus fortalezas individuales y su capacidad para complementar sus debilidades mutuas, proporcionando un enfoque robusto y preciso para la predicción de una variable objetivo con 3 clases, incluso cuando se dispone de una cantidad limitada de datos. "
   ]
  },
  {
   "cell_type": "markdown",
   "metadata": {
    "application/vnd.databricks.v1+cell": {
     "cellMetadata": {},
     "inputWidgets": {},
     "nuid": "d3d38cca-7389-4aae-8ef2-aa5acacb8c6b",
     "showTitle": false,
     "title": ""
    }
   },
   "source": [
    "**Metodo 1:**\n",
    "\n",
    "Se realiza el balanceo de la variable objetivo teniendo en cuenta la clase minoritaria para el entrenamiento del modelo. Este método es tradicional en el entrenamiento de modelos para asegurar una representación equitativa de todas las clases y mejorar la precisión del modelo."
   ]
  },
  {
   "cell_type": "code",
   "execution_count": 0,
   "metadata": {
    "application/vnd.databricks.v1+cell": {
     "cellMetadata": {
      "byteLimit": 2048000,
      "rowLimit": 10000
     },
     "inputWidgets": {},
     "nuid": "66a4844d-df44-4bcb-b88d-37bade2f2e0e",
     "showTitle": false,
     "title": ""
    }
   },
   "outputs": [
    {
     "output_type": "execute_result",
     "data": {
      "text/html": [
       "<div>\n",
       "<style scoped>\n",
       "    .dataframe tbody tr th:only-of-type {\n",
       "        vertical-align: middle;\n",
       "    }\n",
       "\n",
       "    .dataframe tbody tr th {\n",
       "        vertical-align: top;\n",
       "    }\n",
       "\n",
       "    .dataframe thead th {\n",
       "        text-align: right;\n",
       "    }\n",
       "</style>\n",
       "<table border=\"1\" class=\"dataframe\">\n",
       "  <thead>\n",
       "    <tr style=\"text-align: right;\">\n",
       "      <th></th>\n",
       "      <th></th>\n",
       "      <th>Class</th>\n",
       "      <th>Alcohol</th>\n",
       "      <th>Malic Acid</th>\n",
       "      <th>Ash</th>\n",
       "      <th>Alcalinity of Ash</th>\n",
       "      <th>Magnesium</th>\n",
       "      <th>Total Phenols</th>\n",
       "      <th>Flavanoids</th>\n",
       "      <th>Nonflavanoid Phenols</th>\n",
       "      <th>Proanthocyanins</th>\n",
       "      <th>Color Intensity</th>\n",
       "      <th>Hue</th>\n",
       "      <th>Diluted Wines</th>\n",
       "      <th>Proline</th>\n",
       "    </tr>\n",
       "    <tr>\n",
       "      <th>Class</th>\n",
       "      <th></th>\n",
       "      <th></th>\n",
       "      <th></th>\n",
       "      <th></th>\n",
       "      <th></th>\n",
       "      <th></th>\n",
       "      <th></th>\n",
       "      <th></th>\n",
       "      <th></th>\n",
       "      <th></th>\n",
       "      <th></th>\n",
       "      <th></th>\n",
       "      <th></th>\n",
       "      <th></th>\n",
       "      <th></th>\n",
       "    </tr>\n",
       "  </thead>\n",
       "  <tbody>\n",
       "    <tr>\n",
       "      <th rowspan=\"5\" valign=\"top\">1</th>\n",
       "      <th>0</th>\n",
       "      <td>1</td>\n",
       "      <td>13.51</td>\n",
       "      <td>1.80</td>\n",
       "      <td>2.65</td>\n",
       "      <td>19.0</td>\n",
       "      <td>110.0</td>\n",
       "      <td>2.35</td>\n",
       "      <td>2.53</td>\n",
       "      <td>0.29</td>\n",
       "      <td>1.54</td>\n",
       "      <td>4.20000</td>\n",
       "      <td>1.10</td>\n",
       "      <td>2.87</td>\n",
       "      <td>1095</td>\n",
       "    </tr>\n",
       "    <tr>\n",
       "      <th>1</th>\n",
       "      <td>1</td>\n",
       "      <td>14.83</td>\n",
       "      <td>1.64</td>\n",
       "      <td>2.17</td>\n",
       "      <td>14.0</td>\n",
       "      <td>97.0</td>\n",
       "      <td>2.80</td>\n",
       "      <td>2.98</td>\n",
       "      <td>0.29</td>\n",
       "      <td>1.98</td>\n",
       "      <td>5.20000</td>\n",
       "      <td>1.08</td>\n",
       "      <td>2.85</td>\n",
       "      <td>1045</td>\n",
       "    </tr>\n",
       "    <tr>\n",
       "      <th>2</th>\n",
       "      <td>1</td>\n",
       "      <td>13.29</td>\n",
       "      <td>1.97</td>\n",
       "      <td>2.68</td>\n",
       "      <td>16.8</td>\n",
       "      <td>102.0</td>\n",
       "      <td>3.00</td>\n",
       "      <td>3.23</td>\n",
       "      <td>0.31</td>\n",
       "      <td>1.66</td>\n",
       "      <td>6.00000</td>\n",
       "      <td>1.07</td>\n",
       "      <td>2.84</td>\n",
       "      <td>1270</td>\n",
       "    </tr>\n",
       "    <tr>\n",
       "      <th>3</th>\n",
       "      <td>1</td>\n",
       "      <td>14.75</td>\n",
       "      <td>1.73</td>\n",
       "      <td>2.39</td>\n",
       "      <td>11.4</td>\n",
       "      <td>91.0</td>\n",
       "      <td>3.10</td>\n",
       "      <td>3.69</td>\n",
       "      <td>0.43</td>\n",
       "      <td>2.81</td>\n",
       "      <td>5.40000</td>\n",
       "      <td>1.25</td>\n",
       "      <td>2.73</td>\n",
       "      <td>1150</td>\n",
       "    </tr>\n",
       "    <tr>\n",
       "      <th>4</th>\n",
       "      <td>1</td>\n",
       "      <td>13.83</td>\n",
       "      <td>1.65</td>\n",
       "      <td>2.60</td>\n",
       "      <td>17.2</td>\n",
       "      <td>94.0</td>\n",
       "      <td>2.45</td>\n",
       "      <td>2.99</td>\n",
       "      <td>0.22</td>\n",
       "      <td>2.29</td>\n",
       "      <td>5.60000</td>\n",
       "      <td>1.24</td>\n",
       "      <td>3.37</td>\n",
       "      <td>1265</td>\n",
       "    </tr>\n",
       "    <tr>\n",
       "      <th>...</th>\n",
       "      <th>...</th>\n",
       "      <td>...</td>\n",
       "      <td>...</td>\n",
       "      <td>...</td>\n",
       "      <td>...</td>\n",
       "      <td>...</td>\n",
       "      <td>...</td>\n",
       "      <td>...</td>\n",
       "      <td>...</td>\n",
       "      <td>...</td>\n",
       "      <td>...</td>\n",
       "      <td>...</td>\n",
       "      <td>...</td>\n",
       "      <td>...</td>\n",
       "      <td>...</td>\n",
       "    </tr>\n",
       "    <tr>\n",
       "      <th rowspan=\"5\" valign=\"top\">3</th>\n",
       "      <th>43</th>\n",
       "      <td>3</td>\n",
       "      <td>13.78</td>\n",
       "      <td>2.76</td>\n",
       "      <td>2.30</td>\n",
       "      <td>22.0</td>\n",
       "      <td>90.0</td>\n",
       "      <td>1.35</td>\n",
       "      <td>0.68</td>\n",
       "      <td>0.41</td>\n",
       "      <td>1.03</td>\n",
       "      <td>9.58000</td>\n",
       "      <td>0.70</td>\n",
       "      <td>1.68</td>\n",
       "      <td>615</td>\n",
       "    </tr>\n",
       "    <tr>\n",
       "      <th>44</th>\n",
       "      <td>3</td>\n",
       "      <td>13.58</td>\n",
       "      <td>2.58</td>\n",
       "      <td>2.69</td>\n",
       "      <td>24.5</td>\n",
       "      <td>105.0</td>\n",
       "      <td>1.55</td>\n",
       "      <td>0.84</td>\n",
       "      <td>0.39</td>\n",
       "      <td>1.54</td>\n",
       "      <td>8.66000</td>\n",
       "      <td>0.74</td>\n",
       "      <td>1.80</td>\n",
       "      <td>750</td>\n",
       "    </tr>\n",
       "    <tr>\n",
       "      <th>45</th>\n",
       "      <td>3</td>\n",
       "      <td>12.88</td>\n",
       "      <td>2.99</td>\n",
       "      <td>2.40</td>\n",
       "      <td>20.0</td>\n",
       "      <td>104.0</td>\n",
       "      <td>1.30</td>\n",
       "      <td>1.22</td>\n",
       "      <td>0.24</td>\n",
       "      <td>0.83</td>\n",
       "      <td>5.40000</td>\n",
       "      <td>0.74</td>\n",
       "      <td>1.42</td>\n",
       "      <td>530</td>\n",
       "    </tr>\n",
       "    <tr>\n",
       "      <th>46</th>\n",
       "      <td>3</td>\n",
       "      <td>12.79</td>\n",
       "      <td>2.67</td>\n",
       "      <td>2.48</td>\n",
       "      <td>22.0</td>\n",
       "      <td>112.0</td>\n",
       "      <td>1.48</td>\n",
       "      <td>1.36</td>\n",
       "      <td>0.24</td>\n",
       "      <td>1.26</td>\n",
       "      <td>5.05809</td>\n",
       "      <td>0.48</td>\n",
       "      <td>1.47</td>\n",
       "      <td>480</td>\n",
       "    </tr>\n",
       "    <tr>\n",
       "      <th>47</th>\n",
       "      <td>3</td>\n",
       "      <td>13.08</td>\n",
       "      <td>3.90</td>\n",
       "      <td>2.36</td>\n",
       "      <td>21.5</td>\n",
       "      <td>113.0</td>\n",
       "      <td>1.41</td>\n",
       "      <td>1.39</td>\n",
       "      <td>0.34</td>\n",
       "      <td>1.14</td>\n",
       "      <td>9.40000</td>\n",
       "      <td>0.57</td>\n",
       "      <td>1.33</td>\n",
       "      <td>550</td>\n",
       "    </tr>\n",
       "  </tbody>\n",
       "</table>\n",
       "<p>144 rows × 14 columns</p>\n",
       "</div>"
      ],
      "text/plain": [
       "          Class  Alcohol  Malic Acid  ...   Hue  Diluted Wines  Proline\n",
       "Class                                 ...                              \n",
       "1     0       1    13.51        1.80  ...  1.10           2.87     1095\n",
       "      1       1    14.83        1.64  ...  1.08           2.85     1045\n",
       "      2       1    13.29        1.97  ...  1.07           2.84     1270\n",
       "      3       1    14.75        1.73  ...  1.25           2.73     1150\n",
       "      4       1    13.83        1.65  ...  1.24           3.37     1265\n",
       "...         ...      ...         ...  ...   ...            ...      ...\n",
       "3     43      3    13.78        2.76  ...  0.70           1.68      615\n",
       "      44      3    13.58        2.58  ...  0.74           1.80      750\n",
       "      45      3    12.88        2.99  ...  0.74           1.42      530\n",
       "      46      3    12.79        2.67  ...  0.48           1.47      480\n",
       "      47      3    13.08        3.90  ...  0.57           1.33      550\n",
       "\n",
       "[144 rows x 14 columns]"
      ]
     },
     "execution_count": 23,
     "metadata": {},
     "output_type": "execute_result"
    }
   ],
   "source": [
    "# Agrupar el DataFrame 'MLNew' por la columna 'Class'\n",
    "grouped = MLNew.groupby('Class')\n",
    "\n",
    "# Crear un nuevo DataFrame 'DatatosLimpiosModelosentrenar' con un número igual de muestras de cada grupo\n",
    "DatatosLimpiosModelosentrenar = grouped.apply(\n",
    "    lambda x: x.sample(grouped.size().min()).reset_index(drop=True)\n",
    ")\n",
    "\n",
    "# Convertir el resultado a un DataFrame\n",
    "DatatosLimpiosModelosentrenar = pd.DataFrame(DatatosLimpiosModelosentrenar)\n",
    "\n",
    "# Mostrar el DataFrame resultante\n",
    "DatatosLimpiosModelosentrenar"
   ]
  },
  {
   "cell_type": "markdown",
   "metadata": {
    "application/vnd.databricks.v1+cell": {
     "cellMetadata": {},
     "inputWidgets": {},
     "nuid": "9bad7094-2566-4a3a-bace-db500c269e13",
     "showTitle": false,
     "title": ""
    }
   },
   "source": [
    "###Divir los datos de entrenamiento y prueba"
   ]
  },
  {
   "cell_type": "code",
   "execution_count": 0,
   "metadata": {
    "application/vnd.databricks.v1+cell": {
     "cellMetadata": {
      "byteLimit": 2048000,
      "rowLimit": 10000
     },
     "inputWidgets": {},
     "nuid": "5cfb3b3b-506b-423a-9fe6-a47ffa18f126",
     "showTitle": false,
     "title": ""
    }
   },
   "outputs": [],
   "source": [
    "from sklearn.model_selection import train_test_split, GridSearchCV\n",
    "\n",
    "# Asumiendo que `DatatosLimpiosModelosentrenar` es tu DataFrame\n",
    "X = DatatosLimpiosModelosentrenar[['Alcohol', 'Malic Acid', 'Ash', 'Alcalinity of Ash',\n",
    "        'Magnesium', 'Total Phenols', 'Flavanoids', 'Nonflavanoid Phenols',\n",
    "        'Proanthocyanins', 'Color Intensity', 'Hue', 'Diluted Wines', 'Proline']]\n",
    "y = DatatosLimpiosModelosentrenar['Class']\n",
    "\n",
    "# Dividir los datos\n",
    "X_train, X_test, y_train, y_test = train_test_split(X, y, test_size=0.2, random_state=42)"
   ]
  },
  {
   "cell_type": "markdown",
   "metadata": {
    "application/vnd.databricks.v1+cell": {
     "cellMetadata": {},
     "inputWidgets": {},
     "nuid": "575afee5-db75-4897-b97c-edba73cdcf90",
     "showTitle": false,
     "title": ""
    }
   },
   "source": [
    "Para entrenar los modelos, se realiza una separación de los datos de la siguiente manera: el 80% se destina al entrenamiento y el 20% a la prueba. Estos valores se escogieron basándose en teorías y experiencias previas en el campo del aprendizaje automático. La proporción de 80-20 es ampliamente aceptada porque permite que el modelo tenga suficiente información para aprender patrones significativos durante la fase de entrenamiento, mientras que el conjunto de prueba sigue siendo lo suficientemente grande como para evaluar de manera efectiva el rendimiento del modelo. Esta metodología asegura que el modelo no solo se ajuste bien a los datos de entrenamiento, sino que también generalice adecuadamente a datos nuevos y no vistos."
   ]
  },
  {
   "cell_type": "markdown",
   "metadata": {
    "application/vnd.databricks.v1+cell": {
     "cellMetadata": {},
     "inputWidgets": {},
     "nuid": "ec6cb6f3-0bf1-4740-9fff-573d96d81d5e",
     "showTitle": false,
     "title": ""
    }
   },
   "source": [
    "###Gradient Boosting Classifier"
   ]
  },
  {
   "cell_type": "markdown",
   "metadata": {
    "application/vnd.databricks.v1+cell": {
     "cellMetadata": {},
     "inputWidgets": {},
     "nuid": "840ea3be-5973-47c3-8fa8-78684c962b21",
     "showTitle": false,
     "title": ""
    }
   },
   "source": [
    "Para este modelo, se utiliza la metodología de Grid Search para optimizar su eficiencia y encontrar el mejor modelo posible. Además, este modelo se ejecuta bajo el nombre de experimento GradientBoosting_Experiment en Databricks."
   ]
  },
  {
   "cell_type": "code",
   "execution_count": 0,
   "metadata": {
    "application/vnd.databricks.v1+cell": {
     "cellMetadata": {
      "byteLimit": 2048000,
      "rowLimit": 10000
     },
     "inputWidgets": {},
     "nuid": "3d51d24e-e665-4219-b0a2-a239e58d73e9",
     "showTitle": false,
     "title": ""
    }
   },
   "outputs": [
    {
     "output_type": "stream",
     "name": "stderr",
     "output_type": "stream",
     "text": [
      "/databricks/python/lib/python3.11/site-packages/_distutils_hack/__init__.py:33: UserWarning: Setuptools is replacing distutils.\n  warnings.warn(\"Setuptools is replacing distutils.\")\n2024/09/13 15:17:41 WARNING mlflow.models.model: Model logged without a signature. Signatures will be required for upcoming model registry features as they validate model inputs and denote the expected schema of model outputs. Please visit https://www.mlflow.org/docs/2.13.1/models.html#set-signature-on-logged-model for instructions on setting a model signature on your logged model.\n"
     ]
    },
    {
     "output_type": "display_data",
     "data": {
      "application/vnd.jupyter.widget-view+json": {
       "model_id": "78df540873d6417d84675f6d8243a0e8",
       "version_major": 2,
       "version_minor": 0
      },
      "text/plain": [
       "Uploading artifacts:   0%|          | 0/9 [00:00<?, ?it/s]"
      ]
     },
     "metadata": {},
     "output_type": "display_data"
    },
    {
     "output_type": "stream",
     "name": "stdout",
     "output_type": "stream",
     "text": [
      "Accuracy with best model: 0.896551724137931\nBest parameters: {'learning_rate': 0.05, 'max_depth': 5, 'min_samples_leaf': 5, 'min_samples_split': 5, 'n_estimators': 100, 'n_iter_no_change': 10, 'validation_fraction': 0.2}\n"
     ]
    }
   ],
   "source": [
    "import mlflow\n",
    "import mlflow.sklearn\n",
    "from sklearn.ensemble import GradientBoostingClassifier\n",
    "from sklearn.metrics import accuracy_score\n",
    "from sklearn.model_selection import train_test_split, GridSearchCV\n",
    "import pandas as pd\n",
    "\n",
    "# Configurar el nombre del experimento\n",
    "mlflow.set_experiment(\"/Users/jhonsegura3@gmail.com/GradientBoosting_Experiment\")\n",
    "\n",
    "# Definir el espacio de búsqueda de hiperparámetros\n",
    "param_grid = {\n",
    "    'n_estimators': [100, 200],\n",
    "    'learning_rate': [0.05, 0.1],\n",
    "    'max_depth': [5, 7],\n",
    "    'min_samples_split': [5, 10],\n",
    "    'min_samples_leaf': [3, 5],\n",
    "    'n_iter_no_change': [10, 15],\n",
    "    'validation_fraction': [0.1, 0.2]\n",
    "}\n",
    "\n",
    "# Crear el clasificador\n",
    "clf = GradientBoostingClassifier(random_state=42)\n",
    "\n",
    "# Configurar el GridSearchCV\n",
    "grid_search = GridSearchCV(estimator=clf, param_grid=param_grid, cv=5, scoring='accuracy')\n",
    "\n",
    "# Iniciar un experimento MLflow\n",
    "with mlflow.start_run():\n",
    "    # Ajustar el GridSearchCV a los datos de entrenamiento\n",
    "    grid_search.fit(X_train, y_train)\n",
    "    \n",
    "    # Obtener el mejor modelo y sus parámetros\n",
    "    best_model = grid_search.best_estimator_\n",
    "    best_params = grid_search.best_params_\n",
    "    \n",
    "    # Registrar los mejores parámetros en MLflow\n",
    "    mlflow.log_params(best_params)\n",
    "    \n",
    "    # Evaluar el modelo en el conjunto de prueba\n",
    "    y_pred = best_model.predict(X_test)\n",
    "    accuracy = accuracy_score(y_test, y_pred)\n",
    "    \n",
    "    # Registrar la métrica de precisión en MLflow\n",
    "    mlflow.log_metric(\"accuracy\", accuracy)\n",
    "    \n",
    "    # Registrar el modelo en MLflow\n",
    "    mlflow.sklearn.log_model(best_model, \"model\")\n",
    "    \n",
    "    # Imprimir los resultados\n",
    "    print(f\"Accuracy with best model: {accuracy}\")\n",
    "    print(f\"Best parameters: {best_params}\")\n"
   ]
  },
  {
   "cell_type": "code",
   "execution_count": 0,
   "metadata": {
    "application/vnd.databricks.v1+cell": {
     "cellMetadata": {
      "byteLimit": 2048000,
      "rowLimit": 10000
     },
     "inputWidgets": {},
     "nuid": "928320b9-73a9-4a3e-84ac-0aee20e075eb",
     "showTitle": false,
     "title": ""
    }
   },
   "outputs": [
    {
     "output_type": "stream",
     "name": "stdout",
     "output_type": "stream",
     "text": [
      "              precision    recall  f1-score   support\n\n           1       0.90      1.00      0.95         9\n           2       1.00      0.73      0.84        11\n           3       0.82      1.00      0.90         9\n\n    accuracy                           0.90        29\n   macro avg       0.91      0.91      0.90        29\nweighted avg       0.91      0.90      0.89        29\n\n"
     ]
    }
   ],
   "source": [
    "from sklearn.metrics import classification_report\n",
    "\n",
    "# Generar el informe de clasificación\n",
    "report = classification_report(y_test, y_pred)\n",
    "print(report)"
   ]
  },
  {
   "cell_type": "markdown",
   "metadata": {
    "application/vnd.databricks.v1+cell": {
     "cellMetadata": {},
     "inputWidgets": {},
     "nuid": "512a1e3d-badf-4a73-8f75-3dc2f0a90c99",
     "showTitle": false,
     "title": ""
    }
   },
   "source": [
    "**Métricas por Clase**\n",
    "\n",
    "* **Clase 1:**\n",
    "* Precisión: 0.90\n",
    "* Recall: 1.00\n",
    "* F1-Score: 0.95\n",
    "* Soporte: 9\n",
    "* La clase 1 tiene una alta precisión y recall, lo que indica que el modelo identifica correctamente casi todos los ejemplos de esta clase y tiene pocos falsos positivos.\n",
    "\n",
    "* **Clase 2:**\n",
    "* Precisión: 1.00\n",
    "* Recall: 0.73\n",
    "* F1-Score: 0.84\n",
    "* Soporte: 11\n",
    "* La clase 2 tiene una precisión perfecta, pero un recall más bajo, lo que sugiere que aunque los ejemplos identificados son correctos, el modelo no está capturando todos los ejemplos de esta clase.\n",
    "\n",
    "* **Clase 3:**\n",
    "* Precisión: 0.82\n",
    "* Recall: 1.00\n",
    "* F1-Score: 0.90\n",
    "* Soporte: 9\n",
    "\n",
    "* La clase 3 muestra un buen balance entre precisión y recall, similar a la clase 1, pero con una precisión ligeramente menor.\n",
    "\n",
    "* Exactitud: El modelo tiene una exactitud del 90%, lo que indica que en general está funcionando bien.\n",
    "Promedio Macro vs. Promedio Ponderado: Ambos promedios son similares, lo que sugiere que las clases están equilibradas en términos de soporte y que el modelo no está sesgado hacia ninguna clase en particular.\n",
    "\n",
    "**Conclusión**\n",
    "\n",
    "* El modelo parece estar funcionando de manera efectiva, especialmente en las clases 1 y 3. Sin embargo, podría haber espacio para mejorar el recall de la clase 2. Esto podría implicar ajustar el modelo o recopilar más datos para esta clase específica."
   ]
  },
  {
   "cell_type": "code",
   "execution_count": 0,
   "metadata": {
    "application/vnd.databricks.v1+cell": {
     "cellMetadata": {
      "byteLimit": 2048000,
      "rowLimit": 10000
     },
     "inputWidgets": {},
     "nuid": "5c59e6f7-ef9d-4926-91e1-ceb155f84c01",
     "showTitle": false,
     "title": ""
    }
   },
   "outputs": [
    {
     "output_type": "display_data",
     "data": {
      "image/png": "[encoded data removed]",
      "text/plain": [
       "<Figure size 640x480 with 2 Axes>"
      ]
     },
     "metadata": {},
     "output_type": "display_data"
    }
   ],
   "source": [
    "from sklearn.metrics import confusion_matrix\n",
    "import seaborn as sns\n",
    "import matplotlib.pyplot as plt\n",
    "\n",
    "# Generar la matriz de confusión\n",
    "conf_matrix = confusion_matrix(y_test, y_pred)\n",
    "\n",
    "# Visualizar la matriz de confusión\n",
    "sns.heatmap(conf_matrix, annot=True, fmt='d', cmap='Blues')\n",
    "plt.xlabel('Predicted')\n",
    "plt.ylabel('Actual')\n",
    "plt.title('Confusion Matrix')\n",
    "plt.show()"
   ]
  },
  {
   "cell_type": "markdown",
   "metadata": {
    "application/vnd.databricks.v1+cell": {
     "cellMetadata": {},
     "inputWidgets": {},
     "nuid": "7e6f5f82-9fc4-4307-88cd-257549dbb9e9",
     "showTitle": false,
     "title": ""
    }
   },
   "source": [
    "###Modelo SVC"
   ]
  },
  {
   "cell_type": "markdown",
   "metadata": {
    "application/vnd.databricks.v1+cell": {
     "cellMetadata": {},
     "inputWidgets": {},
     "nuid": "30ce1899-c40c-442c-b660-0b8f80b44b08",
     "showTitle": false,
     "title": ""
    }
   },
   "source": [
    "Para este modelo, se utiliza la metodología de Grid Search para optimizar su eficiencia y encontrar el mejor modelo posible. Además, este modelo se ejecuta bajo el nombre de experimento SVC_Experiment en Databricks."
   ]
  },
  {
   "cell_type": "code",
   "execution_count": 0,
   "metadata": {
    "application/vnd.databricks.v1+cell": {
     "cellMetadata": {
      "byteLimit": 2048000,
      "rowLimit": 10000
     },
     "inputWidgets": {},
     "nuid": "3c6a33f5-8b78-4634-8129-a54c8908d4e0",
     "showTitle": false,
     "title": ""
    }
   },
   "outputs": [
    {
     "output_type": "display_data",
     "data": {
      "application/vnd.jupyter.widget-view+json": {
       "model_id": "8ee13157c31e4582a69b7964acfed669",
       "version_major": 2,
       "version_minor": 0
      },
      "text/plain": [
       "Uploading artifacts:   0%|          | 0/1 [00:00<?, ?it/s]"
      ]
     },
     "metadata": {},
     "output_type": "display_data"
    },
    {
     "output_type": "display_data",
     "data": {
      "application/vnd.jupyter.widget-view+json": {
       "model_id": "84b9f4dbedc44471ad3d86876364f400",
       "version_major": 2,
       "version_minor": 0
      },
      "text/plain": [
       "Uploading artifacts:   0%|          | 0/9 [00:00<?, ?it/s]"
      ]
     },
     "metadata": {},
     "output_type": "display_data"
    },
    {
     "output_type": "display_data",
     "data": {
      "application/vnd.jupyter.widget-view+json": {
       "model_id": "963626c1b4bd489cb0a28369dc90b7d8",
       "version_major": 2,
       "version_minor": 0
      },
      "text/plain": [
       "Uploading artifacts:   0%|          | 0/9 [00:00<?, ?it/s]"
      ]
     },
     "metadata": {},
     "output_type": "display_data"
    },
    {
     "output_type": "stream",
     "name": "stdout",
     "output_type": "stream",
     "text": [
      "Mejores parámetros: {'svc__C': 1, 'svc__gamma': 0.1, 'svc__kernel': 'rbf'}\nPrecisión del mejor modelo: 0.93\n"
     ]
    },
    {
     "output_type": "stream",
     "name": "stderr",
     "output_type": "stream",
     "text": [
      "2024/09/13 15:22:11 WARNING mlflow.models.model: Model logged without a signature. Signatures will be required for upcoming model registry features as they validate model inputs and denote the expected schema of model outputs. Please visit https://www.mlflow.org/docs/2.13.1/models.html#set-signature-on-logged-model for instructions on setting a model signature on your logged model.\n"
     ]
    },
    {
     "output_type": "display_data",
     "data": {
      "application/vnd.jupyter.widget-view+json": {
       "model_id": "e7c3cd6ebb31485ea5ea5f6e71259ef3",
       "version_major": 2,
       "version_minor": 0
      },
      "text/plain": [
       "Uploading artifacts:   0%|          | 0/9 [00:00<?, ?it/s]"
      ]
     },
     "metadata": {},
     "output_type": "display_data"
    }
   ],
   "source": [
    "import pandas as pd\n",
    "from sklearn.svm import SVC\n",
    "from sklearn.model_selection import train_test_split\n",
    "from sklearn.metrics import accuracy_score\n",
    "from sklearn.preprocessing import StandardScaler\n",
    "from sklearn.pipeline import Pipeline\n",
    "import mlflow\n",
    "import mlflow.sklearn\n",
    "\n",
    "# Configurar el nombre del experimento\n",
    "mlflow.set_experiment('/Users/jhonsegura3@gmail.com/SVC_Experiment')\n",
    "\n",
    "# Definir el pipeline\n",
    "pipeline = Pipeline([\n",
    "    ('scaler', StandardScaler()),  # Paso 1: Escalador\n",
    "    ('svc', SVC())                 # Paso 2: Clasificador\n",
    "])\n",
    "\n",
    "# Definir los hiperparámetros a probar\n",
    "param_grid = {\n",
    "    'svc__C': [0.1, 1, 10, 100],\n",
    "    'svc__gamma': [1, 0.1, 0.01, 0.001],\n",
    "    'svc__kernel': ['linear', 'rbf']\n",
    "}\n",
    "\n",
    "# Configurar la búsqueda de grilla\n",
    "grid_search = GridSearchCV(pipeline, param_grid, cv=5, scoring='accuracy')\n",
    "\n",
    "# Realizar la búsqueda de grilla\n",
    "grid_search.fit(X_train, y_train)\n",
    "\n",
    "# Obtener los mejores parámetros\n",
    "best_params = grid_search.best_params_\n",
    "print(f'Mejores parámetros: {best_params}')\n",
    "\n",
    "# Evaluar el mejor modelo\n",
    "best_model = grid_search.best_estimator_\n",
    "y_pred = best_model.predict(X_test)\n",
    "accuracy = accuracy_score(y_test, y_pred)\n",
    "print(f'Precisión del mejor modelo: {accuracy:.2f}')\n",
    "\n",
    "# Registrar el mejor modelo y la métrica en MLflow\n",
    "with mlflow.start_run():\n",
    "    mlflow.sklearn.log_model(best_model, \"best_model\")\n",
    "    mlflow.log_metric(\"accuracy\", accuracy)"
   ]
  },
  {
   "cell_type": "code",
   "execution_count": 0,
   "metadata": {
    "application/vnd.databricks.v1+cell": {
     "cellMetadata": {
      "byteLimit": 2048000,
      "rowLimit": 10000
     },
     "inputWidgets": {},
     "nuid": "dd0c8d77-a593-4616-b495-55234aa91894",
     "showTitle": false,
     "title": ""
    }
   },
   "outputs": [
    {
     "output_type": "stream",
     "name": "stdout",
     "output_type": "stream",
     "text": [
      "              precision    recall  f1-score   support\n\n           1       1.00      1.00      1.00         9\n           2       0.91      0.91      0.91        11\n           3       0.89      0.89      0.89         9\n\n    accuracy                           0.93        29\n   macro avg       0.93      0.93      0.93        29\nweighted avg       0.93      0.93      0.93        29\n\n"
     ]
    }
   ],
   "source": [
    "from sklearn.metrics import classification_report\n",
    "\n",
    "# Generar el informe de clasificación\n",
    "report = classification_report(y_test, y_pred)\n",
    "print(report)"
   ]
  },
  {
   "cell_type": "markdown",
   "metadata": {
    "application/vnd.databricks.v1+cell": {
     "cellMetadata": {},
     "inputWidgets": {},
     "nuid": "f57c3679-ddfb-428c-976f-ab0c58ef2539",
     "showTitle": false,
     "title": ""
    }
   },
   "source": [
    "* **Métricas por Clase**\n",
    "\n",
    "* **Clase 1:**\n",
    "* Precisión: 1.00\n",
    "* Recall: 1.00\n",
    "* F1-Score: 1.00\n",
    "* Soporte: 9\n",
    "\n",
    "* La clase 1 tiene una precisión, recall y f1-score perfectos, lo que indica que el modelo identifica correctamente todos los ejemplos de esta clase sin errores.\n",
    "\n",
    "* **Clase 2:**\n",
    "* Precisión: 0.91\n",
    "* Recall: 0.91\n",
    "* F1-Score: 0.91\n",
    "* Soporte: 11\n",
    "\n",
    "* La clase 2 muestra un buen equilibrio entre precisión y recall, lo que sugiere que el modelo está capturando la mayoría de los ejemplos de esta clase con pocos falsos positivos y negativos.\n",
    "\n",
    "* **Clase 3:**\n",
    "* Precisión: 0.89\n",
    "* Recall: 0.89\n",
    "* F1-Score: 0.89\n",
    "* Soporte: 9\n",
    "\n",
    "* La clase 3 también tiene un buen rendimiento, aunque ligeramente inferior a las otras clases, pero sigue siendo bastante alta.\n",
    "\n",
    "* Exactitud: El modelo tiene una exactitud del 93%, lo que indica un rendimiento muy alto en general.\n",
    "Promedio Macro vs. Promedio Ponderado: Ambos promedios son iguales, lo que sugiere que las clases están equilibradas en términos de soporte y que el modelo no está sesgado hacia ninguna clase en particular.\n",
    "\n",
    "**Conclusión**\n",
    "\n",
    "* El modelo SVC parece estar funcionando de manera excelente, especialmente en la clase 1 donde tiene un rendimiento perfecto. Las clases 2 y 3 también muestran un buen rendimiento, aunque hay un pequeño margen de mejora en la clase 3."
   ]
  },
  {
   "cell_type": "code",
   "execution_count": 0,
   "metadata": {
    "application/vnd.databricks.v1+cell": {
     "cellMetadata": {
      "byteLimit": 2048000,
      "rowLimit": 10000
     },
     "inputWidgets": {},
     "nuid": "58c01564-9ed6-47f8-82bd-43cfb7cf1ea7",
     "showTitle": false,
     "title": ""
    }
   },
   "outputs": [
    {
     "output_type": "display_data",
     "data": {
      "image/png": "[encoded data removed]",
      "text/plain": [
       "<Figure size 640x480 with 2 Axes>"
      ]
     },
     "metadata": {},
     "output_type": "display_data"
    }
   ],
   "source": [
    "from sklearn.metrics import confusion_matrix\n",
    "import seaborn as sns\n",
    "import matplotlib.pyplot as plt\n",
    "\n",
    "# Generar la matriz de confusión\n",
    "conf_matrix = confusion_matrix(y_test, y_pred)\n",
    "\n",
    "# Visualizar la matriz de confusión\n",
    "sns.heatmap(conf_matrix, annot=True, fmt='d', cmap='Blues')\n",
    "plt.xlabel('Predicted')\n",
    "plt.ylabel('Actual')\n",
    "plt.title('Confusion Matrix')\n",
    "plt.show()"
   ]
  },
  {
   "cell_type": "markdown",
   "metadata": {
    "application/vnd.databricks.v1+cell": {
     "cellMetadata": {},
     "inputWidgets": {},
     "nuid": "f33263e1-2245-487b-b53f-5eb027c73b21",
     "showTitle": false,
     "title": ""
    }
   },
   "source": [
    "###Xgboost"
   ]
  },
  {
   "cell_type": "markdown",
   "metadata": {
    "application/vnd.databricks.v1+cell": {
     "cellMetadata": {},
     "inputWidgets": {},
     "nuid": "307d9738-ab93-4ba0-8a1e-138ed9eb2e12",
     "showTitle": false,
     "title": ""
    }
   },
   "source": [
    "Para este modelo, se utiliza la metodología de Grid Search para optimizar su eficiencia y encontrar el mejor modelo posible. Además, este modelo se ejecuta bajo el nombre de experimento xgboost_Experiment en Databr"
   ]
  },
  {
   "cell_type": "code",
   "execution_count": 0,
   "metadata": {
    "application/vnd.databricks.v1+cell": {
     "cellMetadata": {
      "byteLimit": 2048000,
      "rowLimit": 10000
     },
     "inputWidgets": {},
     "nuid": "a2922399-9d9e-4e7d-ad65-6c41c86f8d84",
     "showTitle": false,
     "title": ""
    }
   },
   "outputs": [
    {
     "output_type": "stream",
     "name": "stderr",
     "output_type": "stream",
     "text": [
      "/databricks/python/lib/python3.11/site-packages/xgboost/core.py:160: UserWarning: [15:38:04] WARNING: /workspace/src/c_api/c_api.cc:1240: Saving into deprecated binary model format, please consider using `json` or `ubj`. Model format will default to JSON in XGBoost 2.2 if not specified.\n  warnings.warn(smsg, UserWarning)\n2024/09/13 15:38:07 WARNING mlflow.models.model: Model logged without a signature. Signatures will be required for upcoming model registry features as they validate model inputs and denote the expected schema of model outputs. Please visit https://www.mlflow.org/docs/2.13.1/models.html#set-signature-on-logged-model for instructions on setting a model signature on your logged model.\n"
     ]
    },
    {
     "output_type": "display_data",
     "data": {
      "application/vnd.jupyter.widget-view+json": {
       "model_id": "d0222bd8e59c49598dae531ee732e330",
       "version_major": 2,
       "version_minor": 0
      },
      "text/plain": [
       "Uploading artifacts:   0%|          | 0/9 [00:00<?, ?it/s]"
      ]
     },
     "metadata": {},
     "output_type": "display_data"
    },
    {
     "output_type": "stream",
     "name": "stdout",
     "output_type": "stream",
     "text": [
      "Model accuracy: 0.896551724137931\nClassification report:\n              precision    recall  f1-score   support\n\n           0       0.90      1.00      0.95         9\n           1       1.00      0.73      0.84        11\n           2       0.82      1.00      0.90         9\n\n    accuracy                           0.90        29\n   macro avg       0.91      0.91      0.90        29\nweighted avg       0.91      0.90      0.89        29\n\n"
     ]
    }
   ],
   "source": [
    "import mlflow\n",
    "import mlflow.xgboost\n",
    "import xgboost as xgb\n",
    "from sklearn.model_selection import train_test_split\n",
    "from sklearn.metrics import accuracy_score, classification_report\n",
    "import pandas as pd\n",
    "\n",
    "# Supongamos que `DatatosLimpiosModelosentrenar` es tu DataFrame\n",
    "# Asegúrate de que 'DatatosLimpiosModelosentrenar' esté definido y cargado correctamente.\n",
    "\n",
    "# Dividir los datos en características (X) y variable objetivo (y)\n",
    "X = DatatosLimpiosModelosentrenar[['Alcohol', 'Malic Acid', 'Ash', 'Alcalinity of Ash',\n",
    "                                   'Magnesium', 'Total Phenols', 'Flavanoids', 'Nonflavanoid Phenols',\n",
    "                                   'Proanthocyanins', 'Color Intensity', 'Hue', 'Diluted Wines', 'Proline']]\n",
    "y = DatatosLimpiosModelosentrenar['Class'] - 1  # Ajustar las etiquetas para que comiencen desde 0\n",
    "\n",
    "# Dividir los datos en conjunto de entrenamiento y conjunto de prueba\n",
    "X_train, X_test, y_train, y_test = train_test_split(X, y, test_size=0.2, random_state=42)\n",
    "\n",
    "# Configurar el nombre del experimento\n",
    "mlflow.set_experiment('/Users/jhonsegura3@gmail.com/Ensamble_Boosting-xgboost_Experiment')\n",
    "\n",
    "# Configurar los parámetros del modelo XGBoost\n",
    "param = {\n",
    "    'max_depth': 6,\n",
    "    'eta': 0.3,\n",
    "    'verbosity': 1,  # Usar 'verbosity' en lugar de 'silent'\n",
    "    'objective': 'multi:softprob',\n",
    "    'num_class': 3  # Ajustar según el número de clases\n",
    "}\n",
    "\n",
    "# Convertir los datos a DMatrix para XGBoost\n",
    "dtrain = xgb.DMatrix(X_train, label=y_train)\n",
    "dtest = xgb.DMatrix(X_test, label=y_test)\n",
    "\n",
    "# Iniciar un experimento de MLflow\n",
    "with mlflow.start_run() as run:\n",
    "    # Entrenar el modelo\n",
    "    model = xgb.train(params=param, dtrain=dtrain, num_boost_round=100)\n",
    "\n",
    "    # Realizar predicciones\n",
    "    y_pred_proba = model.predict(dtest)\n",
    "    y_pred = [list(x).index(max(x)) for x in y_pred_proba]  # Convertir probabilidades a etiquetas\n",
    "\n",
    "    # Evaluar el modelo\n",
    "    accuracy = accuracy_score(y_test, y_pred)\n",
    "    clf_report = classification_report(y_test, y_pred)\n",
    "\n",
    "    # Registrar métricas y el modelo con MLflow\n",
    "    mlflow.log_param(\"max_depth\", param['max_depth'])\n",
    "    mlflow.log_param(\"eta\", param['eta'])\n",
    "    mlflow.log_param(\"verbosity\", param['verbosity'])\n",
    "    mlflow.log_param(\"objective\", param['objective'])\n",
    "    mlflow.log_param(\"num_class\", param['num_class'])\n",
    "\n",
    "    mlflow.log_metric(\"accuracy\", accuracy)\n",
    "    mlflow.log_text(clf_report, \"classification_report.txt\")\n",
    "\n",
    "    # Guardar el modelo\n",
    "    mlflow.xgboost.log_model(model, \"model\")\n",
    "\n",
    "    # Imprimir el informe de clasificación\n",
    "    print(f\"Model accuracy: {accuracy}\")\n",
    "    print(\"Classification report:\")\n",
    "    print(clf_report)"
   ]
  },
  {
   "cell_type": "markdown",
   "metadata": {
    "application/vnd.databricks.v1+cell": {
     "cellMetadata": {},
     "inputWidgets": {},
     "nuid": "b06fdae2-9e22-40ea-9743-6a477d60ae18",
     "showTitle": false,
     "title": ""
    }
   },
   "source": [
    "* **Desempeño por Clase**\n",
    "\n",
    "* **Clase 0:**\n",
    "\n",
    "* Precisión: 0.90\n",
    "* Recall: 1.00\n",
    "* F1-Score: 0.95\n",
    "* Soporte: 11\n",
    "* Esto significa que el modelo es muy preciso para identificar correctamente las instancias de la clase 0 y no se pierde ninguna (recall perfecto).\n",
    "\n",
    "* **Clase 1:**\n",
    "* Precisión: 1.00\n",
    "* Recall: 0.73\n",
    "* F1-Score: 0.84\n",
    "* Soporte: 9\n",
    "* Aquí, el modelo identifica correctamente todas las instancias que predice como clase 1 (precisión perfecta), pero pierde algunas instancias reales de la clase 1 (recall de 0.73).\n",
    "\n",
    "* **Clase 2:**\n",
    "* Precisión: 0.82\n",
    "* Recall: 1.00\n",
    "* F1-Score: 0.90\n",
    "* Soporte: 9\n",
    "* Para la clase 2, el modelo es bastante bueno en identificar todas las instancias reales (recall perfecto), aunque algunas predicciones pueden ser incorrectas (precisión de 0.82).\n",
    "\n",
    "* **Métricas Generales del Modelo**\n",
    "\n",
    "* Precisión Macro Promedio: 0.91\n",
    "* Recall Macro Promedio: 0.91\n",
    "* F1-Score Macro Promedio: 0.90\n",
    "\n",
    "El modelo ha clasificado correctamente todas las instancias en el conjunto de datos, lo cual es un resultado excelente."
   ]
  },
  {
   "cell_type": "markdown",
   "metadata": {
    "application/vnd.databricks.v1+cell": {
     "cellMetadata": {},
     "inputWidgets": {},
     "nuid": "8d78cae0-662f-4221-92b0-4c556920ed30",
     "showTitle": false,
     "title": ""
    }
   },
   "source": [
    "###Ensamble entre xgboost y Gradient Boosting Classifier"
   ]
  },
  {
   "cell_type": "markdown",
   "metadata": {
    "application/vnd.databricks.v1+cell": {
     "cellMetadata": {},
     "inputWidgets": {},
     "nuid": "a6663d48-05bd-44ea-b5dd-58c267ce33c7",
     "showTitle": false,
     "title": ""
    }
   },
   "source": [
    "El ensamblaje de modelos es una técnica fundamental, esta permite la integración de múltiples componentes para formar un sistema coherente y funcional. Esta práctica no solo facilita la comprensión y el análisis de sistemas complejos, sino que también optimiza el proceso de diseño y mejora la eficiencia operativa."
   ]
  },
  {
   "cell_type": "code",
   "execution_count": 0,
   "metadata": {
    "application/vnd.databricks.v1+cell": {
     "cellMetadata": {
      "byteLimit": 2048000,
      "rowLimit": 10000
     },
     "inputWidgets": {},
     "nuid": "a73f8a4d-60a5-4b0e-a206-c23ccc658895",
     "showTitle": false,
     "title": ""
    }
   },
   "outputs": [
    {
     "output_type": "stream",
     "name": "stderr",
     "output_type": "stream",
     "text": [
      "2024/09/13 15:41:05 WARNING mlflow.models.model: Model logged without a signature. Signatures will be required for upcoming model registry features as they validate model inputs and denote the expected schema of model outputs. Please visit https://www.mlflow.org/docs/2.13.1/models.html#set-signature-on-logged-model for instructions on setting a model signature on your logged model.\n"
     ]
    },
    {
     "output_type": "display_data",
     "data": {
      "application/vnd.jupyter.widget-view+json": {
       "model_id": "f72e4137cca647fb9ed10b48489130ad",
       "version_major": 2,
       "version_minor": 0
      },
      "text/plain": [
       "Uploading artifacts:   0%|          | 0/9 [00:00<?, ?it/s]"
      ]
     },
     "metadata": {},
     "output_type": "display_data"
    },
    {
     "output_type": "stream",
     "name": "stderr",
     "output_type": "stream",
     "text": [
      "/databricks/python/lib/python3.11/site-packages/xgboost/core.py:160: UserWarning: [15:41:07] WARNING: /workspace/src/learner.cc:742: \nParameters: { \"silent\" } are not used.\n\n  warnings.warn(smsg, UserWarning)\n/databricks/python/lib/python3.11/site-packages/xgboost/core.py:160: UserWarning: [15:41:07] WARNING: /workspace/src/c_api/c_api.cc:1240: Saving into deprecated binary model format, please consider using `json` or `ubj`. Model format will default to JSON in XGBoost 2.2 if not specified.\n  warnings.warn(smsg, UserWarning)\n2024/09/13 15:41:10 WARNING mlflow.models.model: Model logged without a signature. Signatures will be required for upcoming model registry features as they validate model inputs and denote the expected schema of model outputs. Please visit https://www.mlflow.org/docs/2.13.1/models.html#set-signature-on-logged-model for instructions on setting a model signature on your logged model.\n"
     ]
    },
    {
     "output_type": "display_data",
     "data": {
      "application/vnd.jupyter.widget-view+json": {
       "model_id": "6aa1109783704381b2ab2406c597e015",
       "version_major": 2,
       "version_minor": 0
      },
      "text/plain": [
       "Uploading artifacts:   0%|          | 0/9 [00:00<?, ?it/s]"
      ]
     },
     "metadata": {},
     "output_type": "display_data"
    },
    {
     "output_type": "stream",
     "name": "stdout",
     "output_type": "stream",
     "text": [
      "Accuracy Gradient Boosting: 0.8620689655172413\nAccuracy XGBoost: 0.896551724137931\nAccuracy Ensemble: 0.6896551724137931\n"
     ]
    }
   ],
   "source": [
    "import pandas as pd\n",
    "import numpy as np\n",
    "import xgboost as xgb\n",
    "from sklearn.ensemble import GradientBoostingClassifier\n",
    "from sklearn.metrics import accuracy_score, classification_report\n",
    "from sklearn.model_selection import train_test_split, GridSearchCV\n",
    "import mlflow\n",
    "import mlflow.sklearn\n",
    "import mlflow.xgboost\n",
    "\n",
    "# Asumiendo que `DatatosLimpiosModelosentrenar` es tu DataFrame\n",
    "X = DatatosLimpiosModelosentrenar[['Alcohol', 'Malic Acid', 'Ash', 'Alcalinity of Ash',\n",
    "        'Magnesium', 'Total Phenols', 'Flavanoids', 'Nonflavanoid Phenols',\n",
    "        'Proanthocyanins', 'Color Intensity', 'Hue', 'Diluted Wines', 'Proline']]\n",
    "y = DatatosLimpiosModelosentrenar['Class']\n",
    "\n",
    "# Dividir los datos\n",
    "X_train, X_test, y_train, y_test = train_test_split(X, y, test_size=0.2, random_state=42)\n",
    "\n",
    "# Configurar el nombre del experimento\n",
    "mlflow.set_experiment('/Users/jhonsegura3@gmail.com/Ensamble_Boosting-xgboost_Experiment')\n",
    "\n",
    "# Entrenar el modelo Gradient Boosting\n",
    "param_grid = {\n",
    "    'n_estimators': [100],\n",
    "    'learning_rate': [0.05],\n",
    "    'max_depth': [5],\n",
    "    'min_samples_split': [5],\n",
    "    'min_samples_leaf': [3],\n",
    "    'n_iter_no_change': [10],\n",
    "    'validation_fraction': [0.2]\n",
    "}\n",
    "clf = GradientBoostingClassifier(random_state=42)\n",
    "grid_search = GridSearchCV(estimator=clf, param_grid=param_grid, cv=5, scoring='accuracy')\n",
    "\n",
    "with mlflow.start_run(run_name=\"GradientBoosting\"):\n",
    "    grid_search.fit(X_train, y_train)\n",
    "    best_model_gb = grid_search.best_estimator_\n",
    "    y_pred_gb = best_model_gb.predict(X_test)\n",
    "    accuracy_gb = accuracy_score(y_test, y_pred_gb)\n",
    "    mlflow.log_params(grid_search.best_params_)\n",
    "    mlflow.log_metric(\"accuracy\", accuracy_gb)\n",
    "    mlflow.sklearn.log_model(best_model_gb, \"model_gb\")\n",
    "\n",
    "# Entrenar el modelo XGBoost\n",
    "with mlflow.start_run(run_name=\"XGBoost\"):\n",
    "    class_mapping = {original_class: index for index, original_class in enumerate(sorted(y.unique()))}\n",
    "    y_train_mapped = y_train.map(class_mapping)\n",
    "    y_test_mapped = y_test.map(class_mapping)\n",
    "    dtrain = xgb.DMatrix(X_train, label=y_train_mapped)\n",
    "    dtest = xgb.DMatrix(X_test, label=y_test_mapped)\n",
    "    \n",
    "    param = {\n",
    "        'max_depth': 6,\n",
    "        'eta': 0.3,\n",
    "        'silent': 1,\n",
    "        'objective': 'multi:softprob',\n",
    "        'num_class': len(class_mapping)\n",
    "    }\n",
    "    num_round = 20\n",
    "\n",
    "    mlflow.log_params(param)\n",
    "\n",
    "    bst = xgb.train(param, dtrain, num_round)\n",
    "    preds = bst.predict(dtest)\n",
    "    best_preds = np.asarray([np.argmax(line) for line in preds])\n",
    "    accuracy_xgb = accuracy_score(y_test_mapped, best_preds)\n",
    "    mlflow.log_metric(\"accuracy\", accuracy_xgb)\n",
    "    mlflow.xgboost.log_model(bst, \"model_xgb\")\n",
    "\n",
    "# Hacer el ensamble de los modelos\n",
    "with mlflow.start_run(run_name=\"Ensemble\"):\n",
    "    final_preds = (y_pred_gb + best_preds) / 2\n",
    "    final_preds = np.round(final_preds).astype(int)\n",
    "    accuracy_ensemble = accuracy_score(y_test_mapped, final_preds)\n",
    "    \n",
    "    print(f\"Accuracy Gradient Boosting: {accuracy_gb}\")\n",
    "    print(f\"Accuracy XGBoost: {accuracy_xgb}\")\n",
    "    print(f\"Accuracy Ensemble: {accuracy_ensemble}\")\n",
    "\n",
    "    mlflow.log_metric(\"accuracy_ensemble\", accuracy_ensemble)\n"
   ]
  },
  {
   "cell_type": "code",
   "execution_count": 0,
   "metadata": {
    "application/vnd.databricks.v1+cell": {
     "cellMetadata": {
      "byteLimit": 2048000,
      "rowLimit": 10000
     },
     "inputWidgets": {},
     "nuid": "d097a0d3-dc1b-4960-bf89-6fd6b49972b7",
     "showTitle": false,
     "title": ""
    }
   },
   "outputs": [
    {
     "output_type": "stream",
     "name": "stdout",
     "output_type": "stream",
     "text": [
      "Classification Report for Ensemble Model:\n              precision    recall  f1-score   support\n\n           0       1.00      1.00      1.00         9\n           1       1.00      0.18      0.31        11\n           2       0.50      1.00      0.67         9\n\n    accuracy                           0.69        29\n   macro avg       0.83      0.73      0.66        29\nweighted avg       0.84      0.69      0.63        29\n\n"
     ]
    }
   ],
   "source": [
    "# Generar el reporte de clasificación para el modelo ensamblado\n",
    "report = classification_report(y_test_mapped, final_preds)\n",
    "print(\"Classification Report for Ensemble Model:\")\n",
    "print(report)"
   ]
  },
  {
   "cell_type": "markdown",
   "metadata": {
    "application/vnd.databricks.v1+cell": {
     "cellMetadata": {},
     "inputWidgets": {},
     "nuid": "7ddda926-150d-4c92-b016-3002da954ee9",
     "showTitle": false,
     "title": ""
    }
   },
   "source": [
    "* **Clase 0:**\n",
    "* Precisión: 1.00\n",
    "* Recall: 1.00\n",
    "* F1-Score: 1.00\n",
    "* Soporte: 9\n",
    "* El modelo tiene un rendimiento perfecto para la clase 0, lo que significa que identifica correctamente todas las instancias de esta clase.\n",
    "\n",
    "* **Clase 1:**\n",
    "* Precisión: 1.00\n",
    "* Recall: 0.18\n",
    "* F1-Score: 0.31\n",
    "* Soporte: 11\n",
    "* Para la clase 1, aunque la precisión es alta, el recall es bajo, lo que indica que el modelo no está capturando muchas de las instancias de esta clase. El F1-Score también es bajo, reflejando este desequilibrio.\n",
    "\n",
    "* **Clase 2:**\n",
    "* Precisión: 0.50\n",
    "* Recall: 1.00\n",
    "* F1-Score: 0.67\n",
    "* Soporte: 9\n",
    "* Para la clase 2, la precisión es moderada (0.50), lo que significa que la mitad de las instancias clasificadas como clase 2 son correctas. El recall es perfecto (1.00), indicando que el modelo captura todas las instancias de esta clase. El F1-Score es 0.67, que es un equilibrio entre precisión y recall.\n",
    "\n",
    "Conclusión: El modelo no es tan bueno como otros que se han probado."
   ]
  },
  {
   "cell_type": "markdown",
   "metadata": {
    "application/vnd.databricks.v1+cell": {
     "cellMetadata": {},
     "inputWidgets": {},
     "nuid": "e8f7ad17-eb37-4491-9174-49c334b2f9a0",
     "showTitle": false,
     "title": ""
    }
   },
   "source": [
    "### Metodo 2"
   ]
  },
  {
   "cell_type": "code",
   "execution_count": 0,
   "metadata": {
    "application/vnd.databricks.v1+cell": {
     "cellMetadata": {
      "byteLimit": 2048000,
      "rowLimit": 10000
     },
     "inputWidgets": {},
     "nuid": "56233ae4-19d5-4174-9f0d-49d9ad6ec98a",
     "showTitle": false,
     "title": ""
    }
   },
   "outputs": [
    {
     "output_type": "execute_result",
     "data": {
      "text/plain": [
       "2    71\n",
       "1    59\n",
       "3    48\n",
       "Name: Class, dtype: int64"
      ]
     },
     "execution_count": 38,
     "metadata": {},
     "output_type": "execute_result"
    }
   ],
   "source": [
    "# Contar la cantidad de ocurrencias de cada clase en la columna 'Class' del DataFrame 'MLNew'\n",
    "class_counts = MLNew['Class'].value_counts()\n",
    "\n",
    "class_counts"
   ]
  },
  {
   "cell_type": "markdown",
   "metadata": {
    "application/vnd.databricks.v1+cell": {
     "cellMetadata": {},
     "inputWidgets": {},
     "nuid": "eb5dbab4-0193-464c-846d-ee0a7ec5b8f7",
     "showTitle": false,
     "title": ""
    }
   },
   "source": [
    "El sobremuestreo (oversampling) es una técnica utilizada en el análisis de datos, especialmente en situaciones donde hay una desproporción entre las clases de datos."
   ]
  },
  {
   "cell_type": "code",
   "execution_count": 0,
   "metadata": {
    "application/vnd.databricks.v1+cell": {
     "cellMetadata": {
      "byteLimit": 2048000,
      "rowLimit": 10000
     },
     "inputWidgets": {},
     "nuid": "59fed59e-9ee7-4f92-a61c-83cfb1e03d12",
     "showTitle": false,
     "title": ""
    }
   },
   "outputs": [
    {
     "output_type": "stream",
     "name": "stdout",
     "output_type": "stream",
     "text": [
      "Distribución original en el conjunto de entrenamiento: Counter({2: 57, 1: 45, 3: 40})\n"
     ]
    },
    {
     "output_type": "display_data",
     "data": {
      "application/vnd.jupyter.widget-view+json": {
       "model_id": "b7eeeec4f44f48e098c01e91ea8da057",
       "version_major": 2,
       "version_minor": 0
      },
      "text/plain": [
       "Uploading artifacts:   0%|          | 0/9 [00:00<?, ?it/s]"
      ]
     },
     "metadata": {},
     "output_type": "display_data"
    },
    {
     "output_type": "display_data",
     "data": {
      "application/vnd.jupyter.widget-view+json": {
       "model_id": "9de512d550b9434890409e49bd0fae92",
       "version_major": 2,
       "version_minor": 0
      },
      "text/plain": [
       "Uploading artifacts:   0%|          | 0/9 [00:00<?, ?it/s]"
      ]
     },
     "metadata": {},
     "output_type": "display_data"
    },
    {
     "output_type": "stream",
     "name": "stdout",
     "output_type": "stream",
     "text": [
      "Distribución después de SMOTE: Counter({3: 57, 2: 57, 1: 57})\n"
     ]
    }
   ],
   "source": [
    "from sklearn.model_selection import train_test_split\n",
    "from imblearn.over_sampling import SMOTE\n",
    "from collections import Counter\n",
    "\n",
    "# Asumiendo que `MLNew` es tu DataFrame\n",
    "X = MLNew[['Alcohol', 'Malic Acid', 'Ash', 'Alcalinity of Ash',\n",
    "        'Magnesium', 'Total Phenols', 'Flavanoids', 'Nonflavanoid Phenols',\n",
    "        'Proanthocyanins', 'Color Intensity', 'Hue', 'Diluted Wines', 'Proline']]\n",
    "y = MLNew['Class']\n",
    "\n",
    "# Dividir los datos\n",
    "X_train, X_test, y_train, y_test = train_test_split(X, y, test_size=0.2, random_state=42)\n",
    "\n",
    "# Verificar la distribución de las clases en el conjunto de entrenamiento original\n",
    "print(f\"Distribución original en el conjunto de entrenamiento: {Counter(y_train)}\")\n",
    "\n",
    "# Aplicar SMOTE para el oversampling\n",
    "smote = SMOTE(random_state=42)\n",
    "X_train_resampled, y_train_resampled = smote.fit_resample(X_train, y_train)\n",
    "\n",
    "# Verificar la distribución de las clases después del oversampling\n",
    "print(f\"Distribución después de SMOTE: {Counter(y_train_resampled)}\")"
   ]
  },
  {
   "cell_type": "markdown",
   "metadata": {
    "application/vnd.databricks.v1+cell": {
     "cellMetadata": {},
     "inputWidgets": {},
     "nuid": "a9cf3800-371c-44d2-9ff2-661da218f34b",
     "showTitle": false,
     "title": ""
    }
   },
   "source": [
    "* Distribución después de SMOTE: Counter({3: 57, 2: 57, 1: 57})"
   ]
  },
  {
   "cell_type": "markdown",
   "metadata": {
    "application/vnd.databricks.v1+cell": {
     "cellMetadata": {},
     "inputWidgets": {},
     "nuid": "d1f3248f-a7ba-4bb3-94bd-f4daeeb1cc67",
     "showTitle": false,
     "title": ""
    }
   },
   "source": [
    "### Gradient Boosting Classifier con SMOTE"
   ]
  },
  {
   "cell_type": "code",
   "execution_count": 0,
   "metadata": {
    "application/vnd.databricks.v1+cell": {
     "cellMetadata": {
      "byteLimit": 2048000,
      "rowLimit": 10000
     },
     "inputWidgets": {},
     "nuid": "da559516-8435-45a5-a5b5-c0ac0c2b3cec",
     "showTitle": false,
     "title": ""
    }
   },
   "outputs": [
    {
     "output_type": "stream",
     "name": "stdout",
     "output_type": "stream",
     "text": [
      "Distribución original en el conjunto de entrenamiento: Counter({2: 57, 1: 45, 3: 40})\n"
     ]
    },
    {
     "output_type": "display_data",
     "data": {
      "application/vnd.jupyter.widget-view+json": {
       "model_id": "22f5b694900646b581065cf233701412",
       "version_major": 2,
       "version_minor": 0
      },
      "text/plain": [
       "Uploading artifacts:   0%|          | 0/9 [00:00<?, ?it/s]"
      ]
     },
     "metadata": {},
     "output_type": "display_data"
    },
    {
     "output_type": "display_data",
     "data": {
      "application/vnd.jupyter.widget-view+json": {
       "model_id": "8bc2cd94f5564ec496b785591c0822e1",
       "version_major": 2,
       "version_minor": 0
      },
      "text/plain": [
       "Uploading artifacts:   0%|          | 0/9 [00:00<?, ?it/s]"
      ]
     },
     "metadata": {},
     "output_type": "display_data"
    },
    {
     "output_type": "stream",
     "name": "stdout",
     "output_type": "stream",
     "text": [
      "Distribución después de SMOTE: Counter({3: 57, 2: 57, 1: 57})\n"
     ]
    },
    {
     "output_type": "stream",
     "name": "stderr",
     "output_type": "stream",
     "text": [
      "2024/09/13 16:22:52 WARNING mlflow.models.model: Model logged without a signature. Signatures will be required for upcoming model registry features as they validate model inputs and denote the expected schema of model outputs. Please visit https://www.mlflow.org/docs/2.13.1/models.html#set-signature-on-logged-model for instructions on setting a model signature on your logged model.\n"
     ]
    },
    {
     "output_type": "display_data",
     "data": {
      "application/vnd.jupyter.widget-view+json": {
       "model_id": "179355f8272a4f63bc59d86d40fd507c",
       "version_major": 2,
       "version_minor": 0
      },
      "text/plain": [
       "Uploading artifacts:   0%|          | 0/9 [00:00<?, ?it/s]"
      ]
     },
     "metadata": {},
     "output_type": "display_data"
    },
    {
     "output_type": "stream",
     "name": "stdout",
     "output_type": "stream",
     "text": [
      "Accuracy with best model: 1.0\nBest parameters: {'learning_rate': 0.1, 'max_depth': 7, 'min_samples_leaf': 3, 'min_samples_split': 5, 'n_estimators': 200, 'n_iter_no_change': 10, 'validation_fraction': 0.2}\nClassification report:\n              precision    recall  f1-score   support\n\n           1       1.00      1.00      1.00        14\n           2       1.00      1.00      1.00        14\n           3       1.00      1.00      1.00         8\n\n    accuracy                           1.00        36\n   macro avg       1.00      1.00      1.00        36\nweighted avg       1.00      1.00      1.00        36\n\n"
     ]
    }
   ],
   "source": [
    "import mlflow\n",
    "import mlflow.sklearn\n",
    "from sklearn.ensemble import GradientBoostingClassifier\n",
    "from sklearn.metrics import accuracy_score, classification_report\n",
    "from sklearn.model_selection import train_test_split, GridSearchCV\n",
    "import pandas as pd\n",
    "from imblearn.over_sampling import SMOTE\n",
    "from collections import Counter\n",
    "\n",
    "# Configurar el nombre del experimento\n",
    "mlflow.set_experiment(\"/Users/jhonsegura3@gmail.com/GradientBoosting_Experiment_Aumento\")\n",
    "\n",
    "# Definir el espacio de búsqueda de hiperparámetros\n",
    "param_grid = {\n",
    "    'n_estimators': [200,400],\n",
    "    'learning_rate': [0.05, 0.1],\n",
    "    'max_depth': [5, 7],\n",
    "    'min_samples_split': [5, 10],\n",
    "    'min_samples_leaf': [3, 5],\n",
    "    'n_iter_no_change': [10, 15],\n",
    "    'validation_fraction': [0.1, 0.2]\n",
    "}\n",
    "\n",
    "# Verificar la distribución de las clases en el conjunto de entrenamiento original\n",
    "print(f\"Distribución original en el conjunto de entrenamiento: {Counter(y_train)}\")\n",
    "\n",
    "# Aplicar SMOTE para el oversampling\n",
    "smote = SMOTE(random_state=42)\n",
    "X_train_resampled, y_train_resampled = smote.fit_resample(X_train, y_train)\n",
    "\n",
    "# Verificar la distribución de las clases después del oversampling\n",
    "print(f\"Distribución después de SMOTE: {Counter(y_train_resampled)}\")\n",
    "\n",
    "# Crear el clasificador\n",
    "clf = GradientBoostingClassifier(random_state=42)\n",
    "\n",
    "# Configurar el GridSearchCV\n",
    "grid_search = GridSearchCV(estimator=clf, param_grid=param_grid, cv=5, scoring='accuracy')\n",
    "\n",
    "# Iniciar un experimento MLflow\n",
    "with mlflow.start_run():\n",
    "    # Ajustar el GridSearchCV a los datos de entrenamiento\n",
    "    grid_search.fit(X_train_resampled, y_train_resampled)\n",
    "    \n",
    "    # Obtener el mejor modelo y sus parámetros\n",
    "    best_model = grid_search.best_estimator_\n",
    "    best_params = grid_search.best_params_\n",
    "    \n",
    "    # Registrar los mejores parámetros en MLflow\n",
    "    mlflow.log_params(best_params)\n",
    "    \n",
    "    # Evaluar el modelo en el conjunto de prueba\n",
    "    y_pred = best_model.predict(X_test)\n",
    "    accuracy = accuracy_score(y_test, y_pred)\n",
    "    \n",
    "    # Registrar la métrica de precisión en MLflow\n",
    "    mlflow.log_metric(\"accuracy\", accuracy)\n",
    "    \n",
    "    # Registrar el modelo en MLflow\n",
    "    mlflow.sklearn.log_model(best_model, \"model\")\n",
    "    \n",
    "    # Imprimir los resultados\n",
    "    print(f\"Accuracy with best model: {accuracy}\")\n",
    "    print(f\"Best parameters: {best_params}\")\n",
    "    \n",
    "    # Generar el informe de clasificación\n",
    "    class_report = classification_report(y_test, y_pred)\n",
    "    \n",
    "    # Guardar el informe de clasificación como un archivo\n",
    "    report_file_path = \"classification_report.txt\"\n",
    "    with open(report_file_path, \"w\") as report_file:\n",
    "        report_file.write(class_report)\n",
    "    \n",
    "    # Registrar el informe de clasificación en MLflow\n",
    "    mlflow.log_artifact(report_file_path)\n",
    "    \n",
    "    # Imprimir el informe de clasificación\n",
    "    print(f\"Classification report:\\n{class_report}\")\n"
   ]
  },
  {
   "cell_type": "markdown",
   "metadata": {
    "application/vnd.databricks.v1+cell": {
     "cellMetadata": {},
     "inputWidgets": {},
     "nuid": "fdc17d67-1552-455f-89eb-2a744c2a4d4d",
     "showTitle": false,
     "title": ""
    }
   },
   "source": [
    "El informe de clasificación que has compartido muestra que todas las métricas de precisión, recall y f1-score son perfectas (1.00) para las tres clases. Además, la precisión general del modelo también es 1.00. Estos resultados son inusualmente perfectos y sugieren que el modelo podría estar sobreajustado.\n",
    "\n",
    "El sobreajuste ocurre cuando un modelo aprende demasiado bien los detalles y el ruido del conjunto de datos de entrenamiento, lo que resulta en un rendimiento excelente en los datos de entrenamiento pero pobre en datos nuevos o no vistos. En este caso, las métricas perfectas indican que el modelo probablemente ha memorizado los datos de entrenamiento en lugar de aprender patrones generales que puedan aplicarse a datos nuevos"
   ]
  },
  {
   "cell_type": "markdown",
   "metadata": {
    "application/vnd.databricks.v1+cell": {
     "cellMetadata": {},
     "inputWidgets": {},
     "nuid": "dbce0178-e6ae-4f56-aa33-17cf325d9e48",
     "showTitle": false,
     "title": ""
    }
   },
   "source": [
    "### Modelo SVC con SMOTE"
   ]
  },
  {
   "cell_type": "code",
   "execution_count": 0,
   "metadata": {
    "application/vnd.databricks.v1+cell": {
     "cellMetadata": {
      "byteLimit": 2048000,
      "rowLimit": 10000
     },
     "inputWidgets": {},
     "nuid": "78747eda-8a16-4f2e-9cf3-3cd1a4bcef4f",
     "showTitle": false,
     "title": ""
    }
   },
   "outputs": [
    {
     "output_type": "stream",
     "name": "stdout",
     "output_type": "stream",
     "text": [
      "Distribución original en el conjunto de entrenamiento: Counter({3: 39, 1: 39, 2: 37})\n"
     ]
    },
    {
     "output_type": "display_data",
     "data": {
      "application/vnd.jupyter.widget-view+json": {
       "model_id": "d67c09837da64ec2879b4d3b1d9c92bc",
       "version_major": 2,
       "version_minor": 0
      },
      "text/plain": [
       "Uploading artifacts:   0%|          | 0/1 [00:00<?, ?it/s]"
      ]
     },
     "metadata": {},
     "output_type": "display_data"
    },
    {
     "output_type": "display_data",
     "data": {
      "application/vnd.jupyter.widget-view+json": {
       "model_id": "acc89f594dbb441c98c59dcfd8499563",
       "version_major": 2,
       "version_minor": 0
      },
      "text/plain": [
       "Uploading artifacts:   0%|          | 0/9 [00:00<?, ?it/s]"
      ]
     },
     "metadata": {},
     "output_type": "display_data"
    },
    {
     "output_type": "display_data",
     "data": {
      "application/vnd.jupyter.widget-view+json": {
       "model_id": "a2c215d266b64e2f9be8c5c933fa0b32",
       "version_major": 2,
       "version_minor": 0
      },
      "text/plain": [
       "Uploading artifacts:   0%|          | 0/9 [00:00<?, ?it/s]"
      ]
     },
     "metadata": {},
     "output_type": "display_data"
    },
    {
     "output_type": "stream",
     "name": "stdout",
     "output_type": "stream",
     "text": [
      "Mejores parámetros: {'svc__C': 0.1, 'svc__gamma': 0.1, 'svc__kernel': 'rbf'}\nPrecisión del mejor modelo: 0.97\nInforme de clasificación:\n              precision    recall  f1-score   support\n\n           1       1.00      1.00      1.00         9\n           2       1.00      0.91      0.95        11\n           3       0.90      1.00      0.95         9\n\n    accuracy                           0.97        29\n   macro avg       0.97      0.97      0.97        29\nweighted avg       0.97      0.97      0.97        29\n\n"
     ]
    },
    {
     "output_type": "stream",
     "name": "stderr",
     "output_type": "stream",
     "text": [
      "2024/09/13 16:23:24 WARNING mlflow.models.model: Model logged without a signature. Signatures will be required for upcoming model registry features as they validate model inputs and denote the expected schema of model outputs. Please visit https://www.mlflow.org/docs/2.13.1/models.html#set-signature-on-logged-model for instructions on setting a model signature on your logged model.\n"
     ]
    },
    {
     "output_type": "display_data",
     "data": {
      "application/vnd.jupyter.widget-view+json": {
       "model_id": "ead140432b0f49aa8fad1129a7c319cf",
       "version_major": 2,
       "version_minor": 0
      },
      "text/plain": [
       "Uploading artifacts:   0%|          | 0/9 [00:00<?, ?it/s]"
      ]
     },
     "metadata": {},
     "output_type": "display_data"
    }
   ],
   "source": [
    "import pandas as pd\n",
    "from sklearn.svm import SVC\n",
    "from sklearn.model_selection import train_test_split, GridSearchCV\n",
    "from sklearn.metrics import accuracy_score, classification_report\n",
    "from sklearn.preprocessing import StandardScaler\n",
    "from imblearn.over_sampling import SMOTE\n",
    "from imblearn.pipeline import Pipeline as ImbalancedPipeline  # Usar Pipeline de imblearn\n",
    "import mlflow\n",
    "import mlflow.sklearn\n",
    "from collections import Counter\n",
    "\n",
    "# Configurar el nombre del experimento\n",
    "mlflow.set_experiment('/Users/jhonsegura3@gmail.com/SVC_Experiment_Aumento')\n",
    "\n",
    "# Preparar los datos\n",
    "# Asumiendo que `DatatosLimpiosModelosentrenar` es tu DataFrame\n",
    "X = DatatosLimpiosModelosentrenar[['Alcohol', 'Malic Acid', 'Ash', 'Alcalinity of Ash',\n",
    "        'Magnesium', 'Total Phenols', 'Flavanoids', 'Nonflavanoid Phenols',\n",
    "        'Proanthocyanins', 'Color Intensity', 'Hue', 'Diluted Wines', 'Proline']]\n",
    "y = DatatosLimpiosModelosentrenar['Class']\n",
    "\n",
    "# Dividir los datos\n",
    "X_train, X_test, y_train, y_test = train_test_split(X, y, test_size=0.2, random_state=42)\n",
    "\n",
    "# Verificar la distribución de las clases en el conjunto de entrenamiento original\n",
    "print(f\"Distribución original en el conjunto de entrenamiento: {Counter(y_train)}\")\n",
    "\n",
    "# Definir el pipeline con SMOTE de imblearn\n",
    "pipeline = ImbalancedPipeline([\n",
    "    ('scaler', StandardScaler()),   # Paso 1: Escalador\n",
    "    ('smote', SMOTE(random_state=42)),  # Paso 2: Oversampling\n",
    "    ('svc', SVC())                  # Paso 3: Clasificador\n",
    "])\n",
    "\n",
    "# Definir los hiperparámetros a probar\n",
    "param_grid = {\n",
    "    'svc__C': [0.1, 1, 10, 100],\n",
    "    'svc__gamma': [1, 0.1, 0.01, 0.001],\n",
    "    'svc__kernel': ['linear', 'rbf']\n",
    "}\n",
    "\n",
    "# Configurar la búsqueda de grilla\n",
    "grid_search = GridSearchCV(pipeline, param_grid, cv=5, scoring='accuracy')\n",
    "\n",
    "# Realizar la búsqueda de grilla\n",
    "grid_search.fit(X_train, y_train)\n",
    "\n",
    "# Obtener los mejores parámetros\n",
    "best_params = grid_search.best_params_\n",
    "print(f'Mejores parámetros: {best_params}')\n",
    "\n",
    "# Evaluar el mejor modelo\n",
    "best_model = grid_search.best_estimator_\n",
    "y_pred = best_model.predict(X_test)\n",
    "accuracy = accuracy_score(y_test, y_pred)\n",
    "print(f'Precisión del mejor modelo: {accuracy:.2f}')\n",
    "\n",
    "# Imprimir el informe de clasificación\n",
    "report = classification_report(y_test, y_pred)\n",
    "print(\"Informe de clasificación:\")\n",
    "print(report)\n",
    "\n",
    "# Registrar el mejor modelo y la métrica en MLflow\n",
    "with mlflow.start_run():\n",
    "    mlflow.sklearn.log_model(best_model, \"best_model\")\n",
    "    mlflow.log_metric(\"accuracy\", accuracy)\n",
    "    mlflow.log_text(report, \"classification_report.txt\")\n",
    "\n"
   ]
  },
  {
   "cell_type": "markdown",
   "metadata": {
    "application/vnd.databricks.v1+cell": {
     "cellMetadata": {},
     "inputWidgets": {},
     "nuid": "09dc2d34-083c-474a-8110-cf5ae70070ca",
     "showTitle": false,
     "title": ""
    }
   },
   "source": [
    "El informe de clasificación muestra las métricas de rendimiento de un modelo de aprendizaje automático para tres clases diferentes. Aquí están los detalles:\n",
    "\n",
    "* **Clase 1:**\n",
    "* Precisión: 1.00\n",
    "* Recall: 1.00\n",
    "* F1-Score: 1.00\n",
    "* Soporte: 9 instancias\n",
    "\n",
    "* **Clase 2**:\n",
    "* Precisión: 0.90\n",
    "* Recall: 0.91\n",
    "* F1-Score: 0.90\n",
    "* Soporte: 11 instancias\n",
    "\n",
    "* **Clase 3:**\n",
    "* Precisión: 0.95\n",
    "* Recall: 0.95\n",
    "* F1-Score: 0.95\n",
    "* Soporte: 9 instancias\n",
    "\n",
    "* **Promedios:**\n",
    "* Precisión Macro: 0.97\n",
    "* Recall Macro: 0.97\n",
    "* F1-Score Macro: 0.97\n",
    "* Precisión Ponderada: 0.97\n",
    "* Recall Ponderada: 0.97\n",
    "* F1-Score Ponderada: 0.97\n",
    "* Exactitud: 0.97 (sobre un total de 29 instancias)\n",
    "\n",
    "* **Interpretación:**\n",
    "* Clase 1: El modelo predice perfectamente esta clase, con todas las métricas en 1.00.\n",
    "* Clase 2: El modelo tiene un buen rendimiento, pero no perfecto. La precisión y el recall están cerca de 0.90, lo que indica que hay algunas instancias que no se predicen correctamente.\n",
    "\n",
    "* Clase 3: Similar a la clase 2, el rendimiento es alto pero no perfecto, con métricas alrededor de 0.95.\n",
    "Conclusión:\n",
    "\n",
    "El modelo tiene un rendimiento muy bueno en general, con una exactitud del 97%. Sin embargo, las métricas perfectas para la clase 1 y las altas para las otras clases sugieren que el modelo está funcionando bien, pero podría haber un pequeño margen de mejora, especialmente en la clase 2."
   ]
  },
  {
   "cell_type": "markdown",
   "metadata": {
    "application/vnd.databricks.v1+cell": {
     "cellMetadata": {},
     "inputWidgets": {},
     "nuid": "7f10241e-e86c-4f6a-b599-821098da68c6",
     "showTitle": false,
     "title": ""
    }
   },
   "source": [
    "### Modelo Xgboost con SMOTE"
   ]
  },
  {
   "cell_type": "code",
   "execution_count": 0,
   "metadata": {
    "application/vnd.databricks.v1+cell": {
     "cellMetadata": {
      "byteLimit": 2048000,
      "rowLimit": 10000
     },
     "inputWidgets": {},
     "nuid": "5aed254b-b6e0-4532-bbcf-05042658eefa",
     "showTitle": false,
     "title": ""
    }
   },
   "outputs": [
    {
     "output_type": "stream",
     "name": "stdout",
     "output_type": "stream",
     "text": [
      "Distribución original en el conjunto de entrenamiento: Counter({2: 39, 0: 39, 1: 37})\n"
     ]
    },
    {
     "output_type": "display_data",
     "data": {
      "application/vnd.jupyter.widget-view+json": {
       "model_id": "ff11af141e4e4e34bea850ae6eb714dd",
       "version_major": 2,
       "version_minor": 0
      },
      "text/plain": [
       "Uploading artifacts:   0%|          | 0/9 [00:00<?, ?it/s]"
      ]
     },
     "metadata": {},
     "output_type": "display_data"
    },
    {
     "output_type": "stream",
     "name": "stdout",
     "output_type": "stream",
     "text": [
      "Distribución después de SMOTE: Counter({2: 39, 0: 39, 1: 39})\n"
     ]
    },
    {
     "output_type": "stream",
     "name": "stderr",
     "output_type": "stream",
     "text": [
      "/databricks/python/lib/python3.11/site-packages/xgboost/core.py:160: UserWarning: [16:28:18] WARNING: /workspace/src/c_api/c_api.cc:1240: Saving into deprecated binary model format, please consider using `json` or `ubj`. Model format will default to JSON in XGBoost 2.2 if not specified.\n  warnings.warn(smsg, UserWarning)\n2024/09/13 16:28:21 WARNING mlflow.models.model: Model logged without a signature. Signatures will be required for upcoming model registry features as they validate model inputs and denote the expected schema of model outputs. Please visit https://www.mlflow.org/docs/2.13.1/models.html#set-signature-on-logged-model for instructions on setting a model signature on your logged model.\n"
     ]
    },
    {
     "output_type": "display_data",
     "data": {
      "application/vnd.jupyter.widget-view+json": {
       "model_id": "21101e7590824881944a51429936a619",
       "version_major": 2,
       "version_minor": 0
      },
      "text/plain": [
       "Uploading artifacts:   0%|          | 0/9 [00:00<?, ?it/s]"
      ]
     },
     "metadata": {},
     "output_type": "display_data"
    },
    {
     "output_type": "stream",
     "name": "stdout",
     "output_type": "stream",
     "text": [
      "Model accuracy: 0.896551724137931\nClassification report:\n              precision    recall  f1-score   support\n\n           1       0.90      1.00      0.95         9\n           2       1.00      0.73      0.84        11\n           3       0.82      1.00      0.90         9\n\n    accuracy                           0.90        29\n   macro avg       0.91      0.91      0.90        29\nweighted avg       0.91      0.90      0.89        29\n\n"
     ]
    }
   ],
   "source": [
    "import mlflow\n",
    "import mlflow.xgboost\n",
    "import xgboost as xgb\n",
    "from sklearn.model_selection import train_test_split\n",
    "from sklearn.metrics import accuracy_score, classification_report\n",
    "from imblearn.over_sampling import SMOTE\n",
    "from collections import Counter\n",
    "import pandas as pd\n",
    "from sklearn.preprocessing import LabelEncoder\n",
    "\n",
    "# Supongamos que `DatatosLimpiosModelosentrenar` es tu DataFrame\n",
    "# Asegúrate de que 'DatatosLimpiosModelosentrenar' esté definido y cargado correctamente.\n",
    "\n",
    "# Dividir los datos en características (X) y variable objetivo (y)\n",
    "X = DatatosLimpiosModelosentrenar[['Alcohol', 'Malic Acid', 'Ash', 'Alcalinity of Ash',\n",
    "                                   'Magnesium', 'Total Phenols', 'Flavanoids', 'Nonflavanoid Phenols',\n",
    "                                   'Proanthocyanins', 'Color Intensity', 'Hue', 'Diluted Wines', 'Proline']]\n",
    "y = DatatosLimpiosModelosentrenar['Class']\n",
    "\n",
    "# Reindexar las etiquetas de clase para que empiecen desde 0\n",
    "label_encoder = LabelEncoder()\n",
    "y = label_encoder.fit_transform(y)\n",
    "\n",
    "# Dividir los datos en conjunto de entrenamiento y conjunto de prueba\n",
    "X_train, X_test, y_train, y_test = train_test_split(X, y, test_size=0.2, random_state=42)\n",
    "\n",
    "# Verificar la distribución de las clases en el conjunto de entrenamiento original\n",
    "print(f\"Distribución original en el conjunto de entrenamiento: {Counter(y_train)}\")\n",
    "\n",
    "# Aplicar SMOTE para el oversampling\n",
    "smote = SMOTE(random_state=42)\n",
    "X_train_resampled, y_train_resampled = smote.fit_resample(X_train, y_train)\n",
    "\n",
    "# Verificar la distribución de las clases después del oversampling\n",
    "print(f\"Distribución después de SMOTE: {Counter(y_train_resampled)}\")\n",
    "\n",
    "# Configurar el nombre del experimento\n",
    "mlflow.set_experiment('/Users/jhonsegura3@gmail.com/Boosting-xgboost_Experiment_Aumento')\n",
    "\n",
    "# Configurar los parámetros del modelo XGBoost\n",
    "param = {\n",
    "    'max_depth': 6,\n",
    "    'eta': 0.3,\n",
    "    'verbosity': 1,  # Usa 'verbosity' en lugar de 'silent'\n",
    "    'objective': 'multi:softprob',\n",
    "    'num_class': len(label_encoder.classes_)\n",
    "}\n",
    "\n",
    "# Convertir los datos a DMatrix para XGBoost\n",
    "dtrain_resampled = xgb.DMatrix(X_train_resampled, label=y_train_resampled)\n",
    "dtest = xgb.DMatrix(X_test, label=y_test)\n",
    "\n",
    "# Iniciar un experimento de MLflow\n",
    "with mlflow.start_run() as run:\n",
    "    # Entrenar el modelo\n",
    "    model = xgb.train(params=param, dtrain=dtrain_resampled, num_boost_round=100)\n",
    "\n",
    "    # Realizar predicciones\n",
    "    y_pred_proba = model.predict(dtest)\n",
    "    y_pred = [list(x).index(max(x)) for x in y_pred_proba]  # Convertir probabilidades a etiquetas\n",
    "\n",
    "    # Revertir las etiquetas a su formato original\n",
    "    y_test_original = label_encoder.inverse_transform(y_test)\n",
    "    y_pred_original = label_encoder.inverse_transform(y_pred)\n",
    "\n",
    "    # Evaluar el modelo\n",
    "    accuracy = accuracy_score(y_test_original, y_pred_original)\n",
    "    clf_report = classification_report(y_test_original, y_pred_original)\n",
    "\n",
    "    # Registrar métricas y el modelo con MLflow\n",
    "    mlflow.log_param(\"max_depth\", param['max_depth'])\n",
    "    mlflow.log_param(\"eta\", param['eta'])\n",
    "    mlflow.log_param(\"verbosity\", param['verbosity'])\n",
    "    mlflow.log_param(\"objective\", param['objective'])\n",
    "    mlflow.log_param(\"num_class\", param['num_class'])\n",
    "\n",
    "    mlflow.log_metric(\"accuracy\", accuracy)\n",
    "    mlflow.log_text(clf_report, \"classification_report.txt\")\n",
    "\n",
    "    # Guardar el modelo\n",
    "    mlflow.xgboost.log_model(model, \"model\")\n",
    "\n",
    "    # Imprimir el informe de clasificación\n",
    "    print(f\"Model accuracy: {accuracy}\")\n",
    "    print(\"Classification report:\")\n",
    "    print(clf_report)\n"
   ]
  },
  {
   "cell_type": "markdown",
   "metadata": {
    "application/vnd.databricks.v1+cell": {
     "cellMetadata": {},
     "inputWidgets": {},
     "nuid": "fc9901c1-cd76-4097-8065-c6bd0a566c4c",
     "showTitle": false,
     "title": ""
    }
   },
   "source": [
    "El informe de clasificación muestra las métricas de rendimiento de un modelo de aprendizaje automático para tres clases diferentes. Aquí están los detalles:\n",
    "\n",
    "* **Clase 1:**\n",
    "* Precisión: 0.90\n",
    "* Recall: 1.00\n",
    "* F1-Score: 0.95\n",
    "* Soporte: 9 instancias\n",
    "\n",
    "* **Clase 2:**\n",
    "* Precisión: 1.00\n",
    "* Recall: 0.73\n",
    "* F1-Score: 0.84\n",
    "* Soporte: 11 instancias\n",
    "\n",
    "* **Clase 3:**\n",
    "* Precisión: 0.82\n",
    "* Recall: 1.00\n",
    "* F1-Score: 0.90\n",
    "* Soporte: 9 instancias\n",
    "\n",
    "* **Promedios:**\n",
    "* Precisión Macro: 0.91\n",
    "* Recall Macro: 0.91\n",
    "* F1-Score Macro: 0.90\n",
    "* Precisión Ponderada: 0.91\n",
    "* Recall Ponderada: 0.90\n",
    "* F1-Score Ponderada: 0.89\n",
    "* Exactitud: 0.90 (sobre un total de 29 instancias)\n",
    "\n",
    "* **Interpretación:**\n",
    "* Clase 1: El modelo tiene una buena precisión y un recall perfecto, lo que indica que predice correctamente todas las instancias de esta clase, aunque hay algunas predicciones incorrectas.\n",
    "* Clase 2: La precisión es perfecta, pero el recall es más bajo (0.73), lo que sugiere que el modelo no está capturando todas las instancias de esta clase.\n",
    "* Clase 3: La precisión es más baja (0.82), pero el recall es perfecto, lo que indica que el modelo predice todas las instancias de esta clase, aunque con algunas predicciones incorrectas.\n",
    "\n",
    "* **Conclusión:**\n",
    "El modelo tiene un rendimiento general bueno con una exactitud del 90%. Sin embargo, hay áreas de mejora, especialmente en la clase 2, donde el recall es más bajo. Esto podría indicar que el modelo necesita ajustes para mejorar su capacidad de generalización y capturar todas las instancias de cada clase."
   ]
  },
  {
   "cell_type": "markdown",
   "metadata": {
    "application/vnd.databricks.v1+cell": {
     "cellMetadata": {},
     "inputWidgets": {},
     "nuid": "2f942514-5300-45dc-be1f-20aceffeefa7",
     "showTitle": false,
     "title": ""
    }
   },
   "source": [
    "### Prueba "
   ]
  },
  {
   "cell_type": "code",
   "execution_count": 0,
   "metadata": {
    "application/vnd.databricks.v1+cell": {
     "cellMetadata": {
      "byteLimit": 2048000,
      "rowLimit": 10000
     },
     "inputWidgets": {},
     "nuid": "785802c1-57f8-42fa-b0ab-5ca2593f45f8",
     "showTitle": false,
     "title": ""
    }
   },
   "outputs": [
    {
     "output_type": "display_data",
     "data": {
      "application/vnd.jupyter.widget-view+json": {
       "model_id": "bef5783c852b4c3c914b237d1ced182e",
       "version_major": 2,
       "version_minor": 0
      },
      "text/plain": [
       "Downloading artifacts:   0%|          | 0/9 [00:00<?, ?it/s]"
      ]
     },
     "metadata": {},
     "output_type": "display_data"
    },
    {
     "output_type": "stream",
     "name": "stdout",
     "output_type": "stream",
     "text": [
      "Predicciones: [1 2]\n"
     ]
    },
    {
     "output_type": "stream",
     "name": "stderr",
     "output_type": "stream",
     "text": [
      "/databricks/python/lib/python3.11/site-packages/sklearn/base.py:464: UserWarning: X does not have valid feature names, but GradientBoostingClassifier was fitted with feature names\n  warnings.warn(\n"
     ]
    }
   ],
   "source": [
    "import mlflow\n",
    "import mlflow.sklearn\n",
    "import numpy as np\n",
    "\n",
    "# Reemplaza <RUN_ID> con el ID de la ejecución específica\n",
    "model_uri = \"runs:/fa697fd51a714ebe9c9af6e7bbda2849/model\"\n",
    "model = mlflow.sklearn.load_model(model_uri)\n",
    "\n",
    "# Datos para realizar la predicción\n",
    "data = np.array([\n",
    "    [13.72, 1.43, 2.5, 16.7, 108, 3.4, 3.67, 0.19, 2.04, 6.8, 0.89, 2.87, 1285],\n",
    "    [12.37, 0.94, 1.36, 10.6, 88, 1.98, 0.57, 0.28, 0.42, 1.95, 1.05, 1.82, 520]\n",
    "])\n",
    "\n",
    "# Realizar la predicción\n",
    "predictions = model.predict(data)\n",
    "\n",
    "# Imprimir las predicciones\n",
    "print(f\"Predicciones: {predictions}\")"
   ]
  },
  {
   "cell_type": "markdown",
   "metadata": {
    "application/vnd.databricks.v1+cell": {
     "cellMetadata": {},
     "inputWidgets": {},
     "nuid": "4fdcb7c3-4829-4874-8830-da6ebe189487",
     "showTitle": false,
     "title": ""
    }
   },
   "source": [
    "Al realizar la predicción de los datos, se evidencia que los datos suministrados clasifican en las categorías 1 y 2."
   ]
  }
 ],
 "metadata": {
  "application/vnd.databricks.v1+notebook": {
   "dashboards": [],
   "environmentMetadata": null,
   "language": "python",
   "notebookMetadata": {
    "pythonIndentUnit": 4
   },
   "notebookName": "Modelo_Predictivo",
   "widgets": {}
  }
 },
 "nbformat": 4,
 "nbformat_minor": 0
}
